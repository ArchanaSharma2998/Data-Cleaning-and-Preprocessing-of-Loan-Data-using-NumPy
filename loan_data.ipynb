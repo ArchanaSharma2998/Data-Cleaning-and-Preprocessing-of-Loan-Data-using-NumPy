{
  "nbformat": 4,
  "nbformat_minor": 0,
  "metadata": {
    "colab": {
      "provenance": []
    },
    "kernelspec": {
      "name": "python3",
      "display_name": "Python 3"
    },
    "language_info": {
      "name": "python"
    }
  },
  "cells": [
    {
      "cell_type": "markdown",
      "source": [
        "**Importing the Packages**"
      ],
      "metadata": {
        "id": "IXyY4oe5xf67"
      }
    },
    {
      "cell_type": "code",
      "source": [
        "import numpy as np"
      ],
      "metadata": {
        "id": "NgxyXTUcyDpQ"
      },
      "execution_count": null,
      "outputs": []
    },
    {
      "cell_type": "code",
      "source": [
        "np.printoptions(\n",
        "    suppress = True,\n",
        "    linewidth = 100,\n",
        "    precision = 2,\n",
        ")"
      ],
      "metadata": {
        "colab": {
          "base_uri": "https://localhost:8080/"
        },
        "id": "sadc4Uy-xrPZ",
        "outputId": "49bc4da0-cce6-4e2f-9398-98baedea73df"
      },
      "execution_count": null,
      "outputs": [
        {
          "output_type": "execute_result",
          "data": {
            "text/plain": [
              "<contextlib._GeneratorContextManager at 0x7ea730a42410>"
            ]
          },
          "metadata": {},
          "execution_count": 2
        }
      ]
    },
    {
      "cell_type": "markdown",
      "source": [
        "**Importing the Data**"
      ],
      "metadata": {
        "id": "SmNIfk9TyHIH"
      }
    },
    {
      "cell_type": "code",
      "source": [
        "raw_data_np = np.genfromtxt(\"loan-data.csv\",\n",
        "                            delimiter = ';',\n",
        "                            encoding='latin-1')\n",
        "raw_data_np"
      ],
      "metadata": {
        "colab": {
          "base_uri": "https://localhost:8080/"
        },
        "id": "8SEXmnbFyPfC",
        "outputId": "83ed2c10-bc69-46da-ccbf-c2a27e36af78"
      },
      "execution_count": null,
      "outputs": [
        {
          "output_type": "execute_result",
          "data": {
            "text/plain": [
              "array([[          nan,           nan,           nan, ...,           nan,\n",
              "                  nan,           nan],\n",
              "       [4.8010226e+07,           nan, 3.5000000e+04, ...,           nan,\n",
              "                  nan, 9.4529600e+03],\n",
              "       [5.7693261e+07,           nan, 3.0000000e+04, ...,           nan,\n",
              "                  nan, 4.6797000e+03],\n",
              "       ...,\n",
              "       [5.0415990e+07,           nan, 1.0000000e+04, ...,           nan,\n",
              "                  nan, 2.1856400e+03],\n",
              "       [4.6154151e+07,           nan,           nan, ...,           nan,\n",
              "                  nan, 3.1994000e+03],\n",
              "       [6.6055249e+07,           nan, 1.0000000e+04, ...,           nan,\n",
              "                  nan, 3.0190000e+02]])"
            ]
          },
          "metadata": {},
          "execution_count": 3
        }
      ]
    },
    {
      "cell_type": "markdown",
      "source": [
        "Since the first row has null values, we can omit it"
      ],
      "metadata": {
        "id": "azanrM_n7P9G"
      }
    },
    {
      "cell_type": "code",
      "source": [
        "raw_data_np = np.genfromtxt(\"loan-data.csv\", delimiter = ';', encoding='latin-1', skip_header = True, autostrip = True)\n",
        "np.set_printoptions(linewidth=np.inf)\n",
        "raw_data_np"
      ],
      "metadata": {
        "colab": {
          "base_uri": "https://localhost:8080/"
        },
        "id": "l6QI-H889m7a",
        "outputId": "9a12c2cf-fd77-45e4-b5cd-e26183da954a"
      },
      "execution_count": null,
      "outputs": [
        {
          "output_type": "execute_result",
          "data": {
            "text/plain": [
              "array([[4.8010226e+07,           nan, 3.5000000e+04, ...,           nan,           nan, 9.4529600e+03],\n",
              "       [5.7693261e+07,           nan, 3.0000000e+04, ...,           nan,           nan, 4.6797000e+03],\n",
              "       [5.9432726e+07,           nan, 1.5000000e+04, ...,           nan,           nan, 1.9698300e+03],\n",
              "       ...,\n",
              "       [5.0415990e+07,           nan, 1.0000000e+04, ...,           nan,           nan, 2.1856400e+03],\n",
              "       [4.6154151e+07,           nan,           nan, ...,           nan,           nan, 3.1994000e+03],\n",
              "       [6.6055249e+07,           nan, 1.0000000e+04, ...,           nan,           nan, 3.0190000e+02]])"
            ]
          },
          "metadata": {},
          "execution_count": 4
        }
      ]
    },
    {
      "cell_type": "markdown",
      "source": [
        "**Checking for incomplete data**"
      ],
      "metadata": {
        "id": "WT8iA8jE-aZU"
      }
    },
    {
      "cell_type": "code",
      "source": [
        "np.isnan(raw_data_np)"
      ],
      "metadata": {
        "colab": {
          "base_uri": "https://localhost:8080/"
        },
        "id": "9h409HNi-dpO",
        "outputId": "777a3e96-a440-48f2-b963-24d8525654f0"
      },
      "execution_count": null,
      "outputs": [
        {
          "output_type": "execute_result",
          "data": {
            "text/plain": [
              "array([[False,  True, False, ...,  True,  True, False],\n",
              "       [False,  True, False, ...,  True,  True, False],\n",
              "       [False,  True, False, ...,  True,  True, False],\n",
              "       ...,\n",
              "       [False,  True, False, ...,  True,  True, False],\n",
              "       [False,  True,  True, ...,  True,  True, False],\n",
              "       [False,  True, False, ...,  True,  True, False]])"
            ]
          },
          "metadata": {},
          "execution_count": 5
        }
      ]
    },
    {
      "cell_type": "code",
      "source": [
        "np.isnan(raw_data_np).sum()"
      ],
      "metadata": {
        "colab": {
          "base_uri": "https://localhost:8080/"
        },
        "id": "IjGah_vZ-srL",
        "outputId": "55f1fe5a-deaf-400b-c357-a609313640b4"
      },
      "execution_count": null,
      "outputs": [
        {
          "output_type": "execute_result",
          "data": {
            "text/plain": [
              "88005"
            ]
          },
          "metadata": {},
          "execution_count": 6
        }
      ]
    },
    {
      "cell_type": "markdown",
      "source": [
        "Default datatype for genfromtxt() is float, so all string values will be considered empty and be filled using nan's."
      ],
      "metadata": {
        "id": "nHRNaZJJ__VP"
      }
    },
    {
      "cell_type": "code",
      "source": [
        "temporary_fill = np.nanmax(raw_data_np) + 1\n",
        "temporary_mean = np.nanmean(raw_data_np, axis = 0)"
      ],
      "metadata": {
        "colab": {
          "base_uri": "https://localhost:8080/"
        },
        "id": "Gkr5WeOB-yKc",
        "outputId": "0c6f4571-bfc0-4fc6-fbc4-2a9f93fa3f93"
      },
      "execution_count": null,
      "outputs": [
        {
          "output_type": "stream",
          "name": "stderr",
          "text": [
            "<ipython-input-7-eeff3b704aa1>:2: RuntimeWarning: Mean of empty slice\n",
            "  temporary_mean = np.nanmean(raw_data_np, axis = 0)\n"
          ]
        }
      ]
    },
    {
      "cell_type": "code",
      "source": [
        "temporary_mean"
      ],
      "metadata": {
        "colab": {
          "base_uri": "https://localhost:8080/"
        },
        "id": "2diO50k5AQz-",
        "outputId": "3c132f0a-c056-4308-f32a-a0b496a167ae"
      },
      "execution_count": null,
      "outputs": [
        {
          "output_type": "execute_result",
          "data": {
            "text/plain": [
              "array([5.40158092e+07,            nan, 1.52734632e+04,            nan, 1.53110421e+04,            nan, 1.66172948e+01, 4.40922179e+02,            nan,            nan,            nan,            nan,            nan, 3.14385094e+03])"
            ]
          },
          "metadata": {},
          "execution_count": 8
        }
      ]
    },
    {
      "cell_type": "markdown",
      "source": [
        "By above observation, we see there are total 8 columns which have text values."
      ],
      "metadata": {
        "id": "2wwkxqcOAY3C"
      }
    },
    {
      "cell_type": "code",
      "source": [
        "temporary_stats = np.array([np.nanmin(raw_data_np, axis = 0),\n",
        "                           temporary_mean,\n",
        "                           np.nanmax(raw_data_np, axis = 0)])"
      ],
      "metadata": {
        "colab": {
          "base_uri": "https://localhost:8080/"
        },
        "id": "CJhRVVVoAfyt",
        "outputId": "c51a3298-8e1b-4819-f67b-c34f9c03e557"
      },
      "execution_count": null,
      "outputs": [
        {
          "output_type": "stream",
          "name": "stderr",
          "text": [
            "<ipython-input-9-f918bd68decf>:1: RuntimeWarning: All-NaN slice encountered\n",
            "  temporary_stats = np.array([np.nanmin(raw_data_np, axis = 0),\n",
            "<ipython-input-9-f918bd68decf>:3: RuntimeWarning: All-NaN slice encountered\n",
            "  np.nanmax(raw_data_np, axis = 0)])\n"
          ]
        }
      ]
    },
    {
      "cell_type": "markdown",
      "source": [
        "We are getting error since nanmin(), nanmax() consists of nan values. So since numpy only deals with numeric data, we should separate our data into 2 different arrays. First one contains the numeric values only and 2nd one contains all text data."
      ],
      "metadata": {
        "id": "zkuLfbGIBiLc"
      }
    },
    {
      "cell_type": "code",
      "source": [
        "temporary_stats"
      ],
      "metadata": {
        "colab": {
          "base_uri": "https://localhost:8080/"
        },
        "id": "pjvM57ZKB5pW",
        "outputId": "d9cf88ac-5f22-4f02-8e18-fe858ca4319f"
      },
      "execution_count": null,
      "outputs": [
        {
          "output_type": "execute_result",
          "data": {
            "text/plain": [
              "array([[3.73332000e+05,            nan, 1.00000000e+03,            nan, 1.00000000e+03,            nan, 6.00000000e+00, 3.14200000e+01,            nan,            nan,            nan,            nan,            nan, 0.00000000e+00],\n",
              "       [5.40158092e+07,            nan, 1.52734632e+04,            nan, 1.53110421e+04,            nan, 1.66172948e+01, 4.40922179e+02,            nan,            nan,            nan,            nan,            nan, 3.14385094e+03],\n",
              "       [6.86165190e+07,            nan, 3.50000000e+04,            nan, 3.50000000e+04,            nan, 2.89900000e+01, 1.37297000e+03,            nan,            nan,            nan,            nan,            nan, 4.19136200e+04]])"
            ]
          },
          "metadata": {},
          "execution_count": 10
        }
      ]
    },
    {
      "cell_type": "markdown",
      "source": [
        "**Splitting the data - Numeric + Text**"
      ],
      "metadata": {
        "id": "L4WCphlQCEa-"
      }
    },
    {
      "cell_type": "markdown",
      "source": [
        "First we need to get which columns contains text data and which ones have numeric. This information is acheived using temporary_mean"
      ],
      "metadata": {
        "id": "EKK6MMzcCcaS"
      }
    },
    {
      "cell_type": "code",
      "source": [
        "temporary_mean"
      ],
      "metadata": {
        "colab": {
          "base_uri": "https://localhost:8080/"
        },
        "id": "XgBLzGa0CA2Q",
        "outputId": "40fb8295-4dc8-44be-c125-9b6e3be40805"
      },
      "execution_count": null,
      "outputs": [
        {
          "output_type": "execute_result",
          "data": {
            "text/plain": [
              "array([5.40158092e+07,            nan, 1.52734632e+04,            nan, 1.53110421e+04,            nan, 1.66172948e+01, 4.40922179e+02,            nan,            nan,            nan,            nan,            nan, 3.14385094e+03])"
            ]
          },
          "metadata": {},
          "execution_count": 11
        }
      ]
    },
    {
      "cell_type": "markdown",
      "source": [
        "*   np.isnan(temporary_mean):\n",
        "This part checks each element in the temporary_mean array to see if it's NaN. It returns a boolean array where True indicates that the element is NaN, and False otherwise.\n",
        "*   np.argwhere(...):\n",
        "This function finds the indices of the True values in the boolean array.\n",
        "Essentially, it tells you where the NaN values are located in the temporary_mean array.\n",
        "\n"
      ],
      "metadata": {
        "id": "uJllZTjQDH3v"
      }
    },
    {
      "cell_type": "code",
      "source": [
        "columns_string = np.argwhere(np.isnan(temporary_mean))\n",
        "columns_string"
      ],
      "metadata": {
        "colab": {
          "base_uri": "https://localhost:8080/"
        },
        "id": "q0zjYu_1C68-",
        "outputId": "a61156a4-3f1f-4fd7-f991-e10f9751eb39"
      },
      "execution_count": null,
      "outputs": [
        {
          "output_type": "execute_result",
          "data": {
            "text/plain": [
              "array([[ 1],\n",
              "       [ 3],\n",
              "       [ 5],\n",
              "       [ 8],\n",
              "       [ 9],\n",
              "       [10],\n",
              "       [11],\n",
              "       [12]])"
            ]
          },
          "metadata": {},
          "execution_count": 12
        }
      ]
    },
    {
      "cell_type": "code",
      "source": [
        "#  The variable which stores indexes should be one-dimensional, hence we add squeeze().\n",
        "columns_string = np.argwhere(np.isnan(temporary_mean)).squeeze()\n",
        "columns_string"
      ],
      "metadata": {
        "colab": {
          "base_uri": "https://localhost:8080/"
        },
        "id": "gWpsEqteEEZt",
        "outputId": "8c350d98-8543-4cbb-e361-1bc4ba686ebd"
      },
      "execution_count": null,
      "outputs": [
        {
          "output_type": "execute_result",
          "data": {
            "text/plain": [
              "array([ 1,  3,  5,  8,  9, 10, 11, 12])"
            ]
          },
          "metadata": {},
          "execution_count": 13
        }
      ]
    },
    {
      "cell_type": "code",
      "source": [
        "columns_numeric = np.argwhere(np.isnan(temporary_mean) == False).squeeze()\n",
        "columns_numeric"
      ],
      "metadata": {
        "colab": {
          "base_uri": "https://localhost:8080/"
        },
        "id": "3o6cJHW8Gzsv",
        "outputId": "f56753fd-fe4a-4b11-dfe7-13b67fb900e4"
      },
      "execution_count": null,
      "outputs": [
        {
          "output_type": "execute_result",
          "data": {
            "text/plain": [
              "array([ 0,  2,  4,  6,  7, 13])"
            ]
          },
          "metadata": {},
          "execution_count": 14
        }
      ]
    },
    {
      "cell_type": "markdown",
      "source": [
        "**Reimporting Dataset**"
      ],
      "metadata": {
        "id": "awopH2-tFD_z"
      }
    },
    {
      "cell_type": "code",
      "source": [
        "load_data_strings = np.genfromtxt(\"loan-data.csv\",\n",
        "                                  delimiter = ';',\n",
        "                                  encoding ='latin-1',\n",
        "                                  usecols = columns_string,\n",
        "                                  dtype = str,\n",
        "                                  skip_header = True)\n",
        "load_data_strings"
      ],
      "metadata": {
        "colab": {
          "base_uri": "https://localhost:8080/"
        },
        "id": "xCs8B9FwFGrY",
        "outputId": "434d5067-3b46-47b4-b16e-de1904defe45"
      },
      "execution_count": null,
      "outputs": [
        {
          "output_type": "execute_result",
          "data": {
            "text/plain": [
              "array([['May-15', 'Current', ' 36 months', ..., 'Verified', 'https://www.lendingclub.com/browse/loanDetail.action?loan_id=48010226', 'CA'],\n",
              "       ['', 'Current', ' 36 months', ..., 'Source Verified', 'https://www.lendingclub.com/browse/loanDetail.action?loan_id=57693261', 'NY'],\n",
              "       ['Sep-15', 'Current', ' 36 months', ..., 'Verified', 'https://www.lendingclub.com/browse/loanDetail.action?loan_id=59432726', 'PA'],\n",
              "       ...,\n",
              "       ['Jun-15', 'Current', ' 36 months', ..., 'Source Verified', 'https://www.lendingclub.com/browse/loanDetail.action?loan_id=50415990', 'CA'],\n",
              "       ['Apr-15', 'Current', ' 36 months', ..., 'Source Verified', 'https://www.lendingclub.com/browse/loanDetail.action?loan_id=46154151', 'OH'],\n",
              "       ['Dec-15', 'Current', ' 36 months', ..., '', 'https://www.lendingclub.com/browse/loanDetail.action?loan_id=66055249', 'IL']], dtype='<U69')"
            ]
          },
          "metadata": {},
          "execution_count": 15
        }
      ]
    },
    {
      "cell_type": "code",
      "source": [
        "load_data_numeric = np.genfromtxt(\"loan-data.csv\",\n",
        "                                  delimiter = ';',\n",
        "                                  encoding ='latin-1',\n",
        "                                  usecols = columns_numeric,\n",
        "                                  filling_values = temporary_fill\n",
        "                                  )\n",
        "load_data_numeric"
      ],
      "metadata": {
        "colab": {
          "base_uri": "https://localhost:8080/"
        },
        "id": "GD9p944GGEIB",
        "outputId": "2f98e72a-8e04-4b3f-d0a7-f71d23945c9f"
      },
      "execution_count": null,
      "outputs": [
        {
          "output_type": "execute_result",
          "data": {
            "text/plain": [
              "array([[6.8616520e+07, 6.8616520e+07, 6.8616520e+07, 6.8616520e+07, 6.8616520e+07, 6.8616520e+07],\n",
              "       [4.8010226e+07, 3.5000000e+04, 3.5000000e+04, 1.3330000e+01, 1.1848600e+03, 9.4529600e+03],\n",
              "       [5.7693261e+07, 3.0000000e+04, 3.0000000e+04, 6.8616520e+07, 9.3857000e+02, 4.6797000e+03],\n",
              "       ...,\n",
              "       [5.0415990e+07, 1.0000000e+04, 1.0000000e+04, 6.8616520e+07, 6.8616520e+07, 2.1856400e+03],\n",
              "       [4.6154151e+07, 6.8616520e+07, 1.0000000e+04, 1.6550000e+01, 3.5430000e+02, 3.1994000e+03],\n",
              "       [6.6055249e+07, 1.0000000e+04, 1.0000000e+04, 6.8616520e+07, 3.0997000e+02, 3.0190000e+02]])"
            ]
          },
          "metadata": {},
          "execution_count": 16
        }
      ]
    },
    {
      "cell_type": "markdown",
      "source": [
        "**The Names of the Columns**\n"
      ],
      "metadata": {
        "id": "gKl_hoqQHOlO"
      }
    },
    {
      "cell_type": "code",
      "source": [
        "# We will skip all rows in data using skip_footer, defined as number of rows\n",
        "# in raw_data_np\n",
        "header_full = np.genfromtxt(\"loan-data.csv\",\n",
        "                                  delimiter = ';',\n",
        "                                  encoding ='latin-1',\n",
        "                                  #skip_footer = raw_data_np.shape[0],\n",
        "                                  max_rows = 1,\n",
        "                                  dtype = str\n",
        "                                  )\n",
        "header_full"
      ],
      "metadata": {
        "colab": {
          "base_uri": "https://localhost:8080/"
        },
        "id": "w0clIbt9HTkp",
        "outputId": "569f7fe4-c90e-4add-d13f-356ebd03c512"
      },
      "execution_count": null,
      "outputs": [
        {
          "output_type": "execute_result",
          "data": {
            "text/plain": [
              "array(['id', 'issue_d', 'loan_amnt', 'loan_status', 'funded_amnt', 'term', 'int_rate', 'installment', 'grade', 'sub_grade', 'verification_status', 'url', 'addr_state', 'total_pymnt'], dtype='<U19')"
            ]
          },
          "metadata": {},
          "execution_count": 17
        }
      ]
    },
    {
      "cell_type": "code",
      "source": [
        "header_strings, header_numeric = header_full[columns_string], header_full[columns_numeric]"
      ],
      "metadata": {
        "id": "F0edVq7kIYz3"
      },
      "execution_count": null,
      "outputs": []
    },
    {
      "cell_type": "code",
      "source": [
        "header_strings"
      ],
      "metadata": {
        "colab": {
          "base_uri": "https://localhost:8080/"
        },
        "id": "PzRjUWK3Ipy0",
        "outputId": "17d9bb3c-0efd-43f5-8457-77bcb43cb79b"
      },
      "execution_count": null,
      "outputs": [
        {
          "output_type": "execute_result",
          "data": {
            "text/plain": [
              "array(['issue_d', 'loan_status', 'term', 'grade', 'sub_grade', 'verification_status', 'url', 'addr_state'], dtype='<U19')"
            ]
          },
          "metadata": {},
          "execution_count": 19
        }
      ]
    },
    {
      "cell_type": "code",
      "source": [
        "header_numeric"
      ],
      "metadata": {
        "colab": {
          "base_uri": "https://localhost:8080/"
        },
        "id": "EtjD3jDyIut-",
        "outputId": "8e9daa4c-61a2-4a76-e943-ae9d7341a3ed"
      },
      "execution_count": null,
      "outputs": [
        {
          "output_type": "execute_result",
          "data": {
            "text/plain": [
              "array(['id', 'loan_amnt', 'funded_amnt', 'int_rate', 'installment', 'total_pymnt'], dtype='<U19')"
            ]
          },
          "metadata": {},
          "execution_count": 20
        }
      ]
    },
    {
      "cell_type": "markdown",
      "source": [
        "**Creating Checkpoint**\n",
        "Is where we store a copy of our dataset or only parts of it.\n"
      ],
      "metadata": {
        "id": "GlNyJXaBIxm0"
      }
    },
    {
      "cell_type": "code",
      "source": [
        "def checkpoint(file_name, checkpoint_header, checkpoint_data):\n",
        "  np.savez(file_name, header = checkpoint_header, data = checkpoint_data) # Fixed the typo here\n",
        "  checkpoint_variable = np.load(file_name + \".npz\")\n",
        "  return(checkpoint_variable)"
      ],
      "metadata": {
        "id": "8Buoc7IhhSmI"
      },
      "execution_count": null,
      "outputs": []
    },
    {
      "cell_type": "code",
      "source": [
        "checkpoint_test = checkpoint(\"checkpoint_test\", header_strings, load_data_strings)\n",
        "checkpoint_test['header']"
      ],
      "metadata": {
        "colab": {
          "base_uri": "https://localhost:8080/"
        },
        "id": "Bx6fTE5qiCzg",
        "outputId": "a1c1cd17-44c8-4f14-c4f4-f9fec0cbf44a"
      },
      "execution_count": null,
      "outputs": [
        {
          "output_type": "execute_result",
          "data": {
            "text/plain": [
              "array(['issue_d', 'loan_status', 'term', 'grade', 'sub_grade', 'verification_status', 'url', 'addr_state'], dtype='<U19')"
            ]
          },
          "metadata": {},
          "execution_count": 22
        }
      ]
    },
    {
      "cell_type": "code",
      "source": [
        "checkpoint_test['data']"
      ],
      "metadata": {
        "colab": {
          "base_uri": "https://localhost:8080/"
        },
        "id": "hlqOwOR7k01W",
        "outputId": "4fa18280-11a7-46d4-dc59-2b4a3280baba"
      },
      "execution_count": null,
      "outputs": [
        {
          "output_type": "execute_result",
          "data": {
            "text/plain": [
              "array([['May-15', 'Current', ' 36 months', ..., 'Verified', 'https://www.lendingclub.com/browse/loanDetail.action?loan_id=48010226', 'CA'],\n",
              "       ['', 'Current', ' 36 months', ..., 'Source Verified', 'https://www.lendingclub.com/browse/loanDetail.action?loan_id=57693261', 'NY'],\n",
              "       ['Sep-15', 'Current', ' 36 months', ..., 'Verified', 'https://www.lendingclub.com/browse/loanDetail.action?loan_id=59432726', 'PA'],\n",
              "       ...,\n",
              "       ['Jun-15', 'Current', ' 36 months', ..., 'Source Verified', 'https://www.lendingclub.com/browse/loanDetail.action?loan_id=50415990', 'CA'],\n",
              "       ['Apr-15', 'Current', ' 36 months', ..., 'Source Verified', 'https://www.lendingclub.com/browse/loanDetail.action?loan_id=46154151', 'OH'],\n",
              "       ['Dec-15', 'Current', ' 36 months', ..., '', 'https://www.lendingclub.com/browse/loanDetail.action?loan_id=66055249', 'IL']], dtype='<U69')"
            ]
          },
          "metadata": {},
          "execution_count": 23
        }
      ]
    },
    {
      "cell_type": "markdown",
      "source": [
        "**MANIPULATING STRING COLUMNS**\n",
        "   [load_data_string]"
      ],
      "metadata": {
        "id": "5vZBb-HTlUiV"
      }
    },
    {
      "cell_type": "code",
      "source": [
        "header_strings"
      ],
      "metadata": {
        "colab": {
          "base_uri": "https://localhost:8080/"
        },
        "id": "J5m86a9ClQOL",
        "outputId": "c5116882-1214-4c26-f16d-75da19cd1f93"
      },
      "execution_count": null,
      "outputs": [
        {
          "output_type": "execute_result",
          "data": {
            "text/plain": [
              "array(['issue_d', 'loan_status', 'term', 'grade', 'sub_grade', 'verification_status', 'url', 'addr_state'], dtype='<U19')"
            ]
          },
          "metadata": {},
          "execution_count": 24
        }
      ]
    },
    {
      "cell_type": "code",
      "source": [
        "# As column names are not clear we redefine them as per our convenience.\n",
        "header_strings[0] = \"issue_date\""
      ],
      "metadata": {
        "id": "OyC2KCUnlmoM"
      },
      "execution_count": null,
      "outputs": []
    },
    {
      "cell_type": "code",
      "source": [
        "load_data_strings"
      ],
      "metadata": {
        "colab": {
          "base_uri": "https://localhost:8080/"
        },
        "id": "_ZM8cr9hl4x-",
        "outputId": "1192294e-475a-4bfc-cc4f-9b6eb65b7ba4"
      },
      "execution_count": null,
      "outputs": [
        {
          "output_type": "execute_result",
          "data": {
            "text/plain": [
              "array([['May-15', 'Current', ' 36 months', ..., 'Verified', 'https://www.lendingclub.com/browse/loanDetail.action?loan_id=48010226', 'CA'],\n",
              "       ['', 'Current', ' 36 months', ..., 'Source Verified', 'https://www.lendingclub.com/browse/loanDetail.action?loan_id=57693261', 'NY'],\n",
              "       ['Sep-15', 'Current', ' 36 months', ..., 'Verified', 'https://www.lendingclub.com/browse/loanDetail.action?loan_id=59432726', 'PA'],\n",
              "       ...,\n",
              "       ['Jun-15', 'Current', ' 36 months', ..., 'Source Verified', 'https://www.lendingclub.com/browse/loanDetail.action?loan_id=50415990', 'CA'],\n",
              "       ['Apr-15', 'Current', ' 36 months', ..., 'Source Verified', 'https://www.lendingclub.com/browse/loanDetail.action?loan_id=46154151', 'OH'],\n",
              "       ['Dec-15', 'Current', ' 36 months', ..., '', 'https://www.lendingclub.com/browse/loanDetail.action?loan_id=66055249', 'IL']], dtype='<U69')"
            ]
          },
          "metadata": {},
          "execution_count": 26
        }
      ]
    },
    {
      "cell_type": "markdown",
      "source": [
        "**Issue Date**"
      ],
      "metadata": {
        "id": "a-XMsNuJl62c"
      }
    },
    {
      "cell_type": "code",
      "source": [
        "# Displaying first column\n",
        "load_data_strings[:,0]"
      ],
      "metadata": {
        "colab": {
          "base_uri": "https://localhost:8080/"
        },
        "id": "7ZoJ7Q5El9AG",
        "outputId": "03943201-1e1b-42b4-91e0-3fb4a7675b02"
      },
      "execution_count": null,
      "outputs": [
        {
          "output_type": "execute_result",
          "data": {
            "text/plain": [
              "array(['May-15', '', 'Sep-15', ..., 'Jun-15', 'Apr-15', 'Dec-15'], dtype='<U69')"
            ]
          },
          "metadata": {},
          "execution_count": 27
        }
      ]
    },
    {
      "cell_type": "code",
      "source": [
        "np.unique(load_data_strings[:,0])"
      ],
      "metadata": {
        "colab": {
          "base_uri": "https://localhost:8080/"
        },
        "id": "Ww67GzCqmIwp",
        "outputId": "016cc135-fa6f-4460-d695-323df2d8c49a"
      },
      "execution_count": null,
      "outputs": [
        {
          "output_type": "execute_result",
          "data": {
            "text/plain": [
              "array(['', 'Apr-15', 'Aug-15', 'Dec-15', 'Feb-15', 'Jan-15', 'Jul-15', 'Jun-15', 'Mar-15', 'May-15', 'Nov-15', 'Oct-15', 'Sep-15'], dtype='<U69')"
            ]
          },
          "metadata": {},
          "execution_count": 28
        }
      ]
    },
    {
      "cell_type": "code",
      "source": [
        "# We see all loans are from year 2015, so we can remove it. Store data in column\n",
        "load_data_strings[:,0] = np.chararray.strip(load_data_strings[:,0],\"-15\")"
      ],
      "metadata": {
        "id": "g25-uwm6mXMs"
      },
      "execution_count": null,
      "outputs": []
    },
    {
      "cell_type": "code",
      "source": [
        "np.unique(load_data_strings[:,0])"
      ],
      "metadata": {
        "colab": {
          "base_uri": "https://localhost:8080/"
        },
        "id": "nEQbdRWImvoi",
        "outputId": "d8cd1f53-a344-4bb3-8dad-f4d7adc47d7f"
      },
      "execution_count": null,
      "outputs": [
        {
          "output_type": "execute_result",
          "data": {
            "text/plain": [
              "array(['', 'Apr', 'Aug', 'Dec', 'Feb', 'Jan', 'Jul', 'Jun', 'Mar', 'May', 'Nov', 'Oct', 'Sep'], dtype='<U69')"
            ]
          },
          "metadata": {},
          "execution_count": 30
        }
      ]
    },
    {
      "cell_type": "code",
      "source": [
        "# Change each month to numeric\n",
        "months = np.array(['', 'Jan', 'Feb','Mar','Apr','May','Jun','Jul','Aug','Sep','Oct','Nov','Dec'])"
      ],
      "metadata": {
        "id": "lcMtI8qym4nQ"
      },
      "execution_count": null,
      "outputs": []
    },
    {
      "cell_type": "code",
      "source": [
        "# np.where(condition, value_if_true, value_if_false)\n",
        "for i in range(13):\n",
        "  load_data_strings[:,0] = np.where(load_data_strings[:,0] == months[i],\n",
        "                                    i,\n",
        "                                    load_data_strings[:,0])\n",
        "\n"
      ],
      "metadata": {
        "id": "s1J05khinIzS"
      },
      "execution_count": null,
      "outputs": []
    },
    {
      "cell_type": "code",
      "source": [
        "np.unique(load_data_strings[:,0])"
      ],
      "metadata": {
        "colab": {
          "base_uri": "https://localhost:8080/"
        },
        "id": "n68eRL1YoZRe",
        "outputId": "3dda87ad-e550-4535-b7c9-290274326490"
      },
      "execution_count": null,
      "outputs": [
        {
          "output_type": "execute_result",
          "data": {
            "text/plain": [
              "array(['0', '1', '10', '11', '12', '2', '3', '4', '5', '6', '7', '8', '9'], dtype='<U69')"
            ]
          },
          "metadata": {},
          "execution_count": 33
        }
      ]
    },
    {
      "cell_type": "markdown",
      "source": [
        "**Loan Status**"
      ],
      "metadata": {
        "id": "ubwDQaOqqBEx"
      }
    },
    {
      "cell_type": "code",
      "source": [
        "header_strings"
      ],
      "metadata": {
        "colab": {
          "base_uri": "https://localhost:8080/"
        },
        "id": "t2smJ_iGqD3x",
        "outputId": "b8bb45f6-f3ea-440c-935a-5bb4d2da75bb"
      },
      "execution_count": null,
      "outputs": [
        {
          "output_type": "execute_result",
          "data": {
            "text/plain": [
              "array(['issue_date', 'loan_status', 'term', 'grade', 'sub_grade', 'verification_status', 'url', 'addr_state'], dtype='<U19')"
            ]
          },
          "metadata": {},
          "execution_count": 34
        }
      ]
    },
    {
      "cell_type": "code",
      "source": [
        "np.unique(load_data_strings[:,1])"
      ],
      "metadata": {
        "colab": {
          "base_uri": "https://localhost:8080/"
        },
        "id": "qCMgbZ_QqNMr",
        "outputId": "0cac1142-02e3-41f0-ec70-f73af77f0cdf"
      },
      "execution_count": null,
      "outputs": [
        {
          "output_type": "execute_result",
          "data": {
            "text/plain": [
              "array(['', 'Charged Off', 'Current', 'Default', 'Fully Paid', 'In Grace Period', 'Issued', 'Late (16-30 days)', 'Late (31-120 days)'], dtype='<U69')"
            ]
          },
          "metadata": {},
          "execution_count": 35
        }
      ]
    },
    {
      "cell_type": "code",
      "source": [
        "np.unique(load_data_strings[:,1]).size"
      ],
      "metadata": {
        "colab": {
          "base_uri": "https://localhost:8080/"
        },
        "id": "bb4VCVHDqYOF",
        "outputId": "2999bbdd-d8e4-43db-a1b9-7868c3750ad9"
      },
      "execution_count": null,
      "outputs": [
        {
          "output_type": "execute_result",
          "data": {
            "text/plain": [
              "9"
            ]
          },
          "metadata": {},
          "execution_count": 36
        }
      ]
    },
    {
      "cell_type": "code",
      "source": [
        "# Here also we can use where function to make values in numeric, but what we require here is if person is in good financial condition or not.\n",
        "# So we need to split values in 2 groups [Good {Current, In grace period, Issued, Fully Paid, Late (16-30 days)}, bad].\n",
        "# If no data is provided, we treat as bad sign.\n",
        "# For good - We will use 1, for bad - 0."
      ],
      "metadata": {
        "id": "zikPyVpDqaZF"
      },
      "execution_count": null,
      "outputs": []
    },
    {
      "cell_type": "code",
      "source": [
        "status_bad = np.array(['', 'Charged Off', 'Default', 'Late (31-120 days)'])"
      ],
      "metadata": {
        "id": "LdK04ro-3FET"
      },
      "execution_count": null,
      "outputs": []
    },
    {
      "cell_type": "code",
      "source": [
        "load_data_strings[:,1] = np.where(np.isin(load_data_strings[:,1], status_bad), 0, 1)"
      ],
      "metadata": {
        "id": "hZznz4313XTt"
      },
      "execution_count": null,
      "outputs": []
    },
    {
      "cell_type": "code",
      "source": [
        "np.unique(load_data_strings[:,1])"
      ],
      "metadata": {
        "colab": {
          "base_uri": "https://localhost:8080/"
        },
        "id": "02HGtqnk3skg",
        "outputId": "ce1bb8fb-95e6-4cb1-a7f2-324363680406"
      },
      "execution_count": null,
      "outputs": [
        {
          "output_type": "execute_result",
          "data": {
            "text/plain": [
              "array(['0', '1'], dtype='<U69')"
            ]
          },
          "metadata": {},
          "execution_count": 40
        }
      ]
    },
    {
      "cell_type": "markdown",
      "source": [
        "**Term**"
      ],
      "metadata": {
        "id": "WiTeoJD839m2"
      }
    },
    {
      "cell_type": "code",
      "source": [
        "header_strings"
      ],
      "metadata": {
        "colab": {
          "base_uri": "https://localhost:8080/"
        },
        "id": "ncInZmAe3_PT",
        "outputId": "92feb937-0930-49ac-9b3c-22a8272caa43"
      },
      "execution_count": null,
      "outputs": [
        {
          "output_type": "execute_result",
          "data": {
            "text/plain": [
              "array(['issue_date', 'loan_status', 'term', 'grade', 'sub_grade', 'verification_status', 'url', 'addr_state'], dtype='<U19')"
            ]
          },
          "metadata": {},
          "execution_count": 41
        }
      ]
    },
    {
      "cell_type": "code",
      "source": [
        "np.unique(load_data_strings[:,2])"
      ],
      "metadata": {
        "colab": {
          "base_uri": "https://localhost:8080/"
        },
        "id": "5pRpAJb04B51",
        "outputId": "448f6683-7a95-4280-91b4-d946282dc3e3"
      },
      "execution_count": null,
      "outputs": [
        {
          "output_type": "execute_result",
          "data": {
            "text/plain": [
              "array(['', ' 36 months', ' 60 months'], dtype='<U69')"
            ]
          },
          "metadata": {},
          "execution_count": 42
        }
      ]
    },
    {
      "cell_type": "code",
      "source": [
        "load_data_strings[:,2] = np.chararray.strip(load_data_strings[:,2],' months')\n",
        "np.unique(load_data_strings[:,2])"
      ],
      "metadata": {
        "colab": {
          "base_uri": "https://localhost:8080/"
        },
        "id": "liVWtKV04IaJ",
        "outputId": "3504fdb9-8320-41ab-f766-8d284bac450f"
      },
      "execution_count": null,
      "outputs": [
        {
          "output_type": "execute_result",
          "data": {
            "text/plain": [
              "array(['', '36', '60'], dtype='<U69')"
            ]
          },
          "metadata": {},
          "execution_count": 43
        }
      ]
    },
    {
      "cell_type": "code",
      "source": [
        "header_strings[2] = \"term_months\""
      ],
      "metadata": {
        "id": "KHtgf5C14YPE"
      },
      "execution_count": null,
      "outputs": []
    },
    {
      "cell_type": "code",
      "source": [
        "# We should assume worst case and assign 60 to empty values [since 60 months = 5 yrs]\n",
        "# Assin 60 to all empty places.\n",
        "load_data_strings[:,2] = np.where(load_data_strings[:,2] == '', 60, load_data_strings[:,2])"
      ],
      "metadata": {
        "id": "82D8xLOK43tY"
      },
      "execution_count": null,
      "outputs": []
    },
    {
      "cell_type": "code",
      "source": [
        "np.unique(load_data_strings[:,2])"
      ],
      "metadata": {
        "colab": {
          "base_uri": "https://localhost:8080/"
        },
        "id": "S-fIWp1M5ey_",
        "outputId": "ba7c7051-932b-4574-8c63-619881facc47"
      },
      "execution_count": null,
      "outputs": [
        {
          "output_type": "execute_result",
          "data": {
            "text/plain": [
              "array(['36', '60'], dtype='<U69')"
            ]
          },
          "metadata": {},
          "execution_count": 46
        }
      ]
    },
    {
      "cell_type": "markdown",
      "source": [
        "**Grade and Subgrade**"
      ],
      "metadata": {
        "id": "ZtxCJmtt513B"
      }
    },
    {
      "cell_type": "code",
      "source": [
        "header_strings"
      ],
      "metadata": {
        "colab": {
          "base_uri": "https://localhost:8080/"
        },
        "id": "9vEpm-Gg6EHI",
        "outputId": "bb44c3bf-a193-4632-aaef-fe51220789cf"
      },
      "execution_count": null,
      "outputs": [
        {
          "output_type": "execute_result",
          "data": {
            "text/plain": [
              "array(['issue_date', 'loan_status', 'term_months', 'grade', 'sub_grade', 'verification_status', 'url', 'addr_state'], dtype='<U19')"
            ]
          },
          "metadata": {},
          "execution_count": 47
        }
      ]
    },
    {
      "cell_type": "code",
      "source": [
        "load_data_strings[:,3]"
      ],
      "metadata": {
        "colab": {
          "base_uri": "https://localhost:8080/"
        },
        "id": "ptee1e2054Yk",
        "outputId": "14020e3e-e7bc-4c2f-b4cc-700b17b7d28f"
      },
      "execution_count": null,
      "outputs": [
        {
          "output_type": "execute_result",
          "data": {
            "text/plain": [
              "array(['C', 'A', 'B', ..., 'A', 'D', 'A'], dtype='<U69')"
            ]
          },
          "metadata": {},
          "execution_count": 48
        }
      ]
    },
    {
      "cell_type": "code",
      "source": [
        "np.unique(load_data_strings[:,3])"
      ],
      "metadata": {
        "colab": {
          "base_uri": "https://localhost:8080/"
        },
        "id": "xppXi_wk6H8y",
        "outputId": "4343855f-8532-49ca-80a9-3f2689a78b8c"
      },
      "execution_count": null,
      "outputs": [
        {
          "output_type": "execute_result",
          "data": {
            "text/plain": [
              "array(['', 'A', 'B', 'C', 'D', 'E', 'F', 'G'], dtype='<U69')"
            ]
          },
          "metadata": {},
          "execution_count": 49
        }
      ]
    },
    {
      "cell_type": "code",
      "source": [
        "np.unique(load_data_strings[:,4])"
      ],
      "metadata": {
        "colab": {
          "base_uri": "https://localhost:8080/"
        },
        "id": "YXeFd5MF6SWh",
        "outputId": "3e106528-b9e1-4b32-cd4d-02b30c3cb289"
      },
      "execution_count": null,
      "outputs": [
        {
          "output_type": "execute_result",
          "data": {
            "text/plain": [
              "array(['', 'A1', 'A2', 'A3', 'A4', 'A5', 'B1', 'B2', 'B3', 'B4', 'B5', 'C1', 'C2', 'C3', 'C4', 'C5', 'D1', 'D2', 'D3', 'D4', 'D5', 'E1', 'E2', 'E3', 'E4', 'E5', 'F1', 'F2', 'F3', 'F4', 'F5', 'G1', 'G2', 'G3', 'G4', 'G5'], dtype='<U69')"
            ]
          },
          "metadata": {},
          "execution_count": 50
        }
      ]
    },
    {
      "cell_type": "markdown",
      "source": [
        "**Filling SubGrade**"
      ],
      "metadata": {
        "id": "faOFTRXZ8iej"
      }
    },
    {
      "cell_type": "code",
      "source": [
        " # If Grade has value B and subgrade is empty, we replace subgarde with B5 [Worst Case]"
      ],
      "metadata": {
        "id": "-ArcfjKw6WdD"
      },
      "execution_count": null,
      "outputs": []
    },
    {
      "cell_type": "code",
      "source": [
        "# We start after first because first is '', empty space. Hence[:,3][1:]\n",
        "for i in np.unique(load_data_strings[:,3])[1:]:\n",
        "  load_data_strings[:,4] = np.where((load_data_strings[:,4] == '') & (load_data_strings[:,3] == i),i + '5',load_data_strings[:,4])"
      ],
      "metadata": {
        "id": "n1z5nOKz6_Jt"
      },
      "execution_count": null,
      "outputs": []
    },
    {
      "cell_type": "code",
      "source": [
        "np.unique(load_data_strings[:,4])"
      ],
      "metadata": {
        "colab": {
          "base_uri": "https://localhost:8080/"
        },
        "id": "ccTSoJBv8zE_",
        "outputId": "e19a5c63-3a42-4ef6-f81e-26328b3e22c6"
      },
      "execution_count": null,
      "outputs": [
        {
          "output_type": "execute_result",
          "data": {
            "text/plain": [
              "array(['', 'A1', 'A2', 'A3', 'A4', 'A5', 'B1', 'B2', 'B3', 'B4', 'B5', 'C1', 'C2', 'C3', 'C4', 'C5', 'D1', 'D2', 'D3', 'D4', 'D5', 'E1', 'E2', 'E3', 'E4', 'E5', 'F1', 'F2', 'F3', 'F4', 'F5', 'G1', 'G2', 'G3', 'G4', 'G5'], dtype='<U69')"
            ]
          },
          "metadata": {},
          "execution_count": 53
        }
      ]
    },
    {
      "cell_type": "code",
      "source": [
        "load_data_strings[:,4] = np.where(load_data_strings[:,4] == '', 'H1', load_data_strings[:,4])"
      ],
      "metadata": {
        "id": "Wmq7KAeW-Rqz"
      },
      "execution_count": null,
      "outputs": []
    },
    {
      "cell_type": "code",
      "source": [
        "np.unique(load_data_strings[:,4])"
      ],
      "metadata": {
        "colab": {
          "base_uri": "https://localhost:8080/"
        },
        "id": "lW6x68Zc-Y4Y",
        "outputId": "0d5ccadd-6673-42c3-fdfc-839198074507"
      },
      "execution_count": null,
      "outputs": [
        {
          "output_type": "execute_result",
          "data": {
            "text/plain": [
              "array(['A1', 'A2', 'A3', 'A4', 'A5', 'B1', 'B2', 'B3', 'B4', 'B5', 'C1', 'C2', 'C3', 'C4', 'C5', 'D1', 'D2', 'D3', 'D4', 'D5', 'E1', 'E2', 'E3', 'E4', 'E5', 'F1', 'F2', 'F3', 'F4', 'F5', 'G1', 'G2', 'G3', 'G4', 'G5', 'H1'], dtype='<U69')"
            ]
          },
          "metadata": {},
          "execution_count": 55
        }
      ]
    },
    {
      "cell_type": "code",
      "source": [
        "# We dont have any use of Grade column now, All information is present in subgrade column.\n",
        "load_data_strings = np.delete(load_data_strings, 3, axis = 1)"
      ],
      "metadata": {
        "id": "n-Vkwzx9-hgk"
      },
      "execution_count": null,
      "outputs": []
    },
    {
      "cell_type": "code",
      "source": [
        "load_data_strings"
      ],
      "metadata": {
        "colab": {
          "base_uri": "https://localhost:8080/"
        },
        "id": "5nnHk2qe-nhD",
        "outputId": "833a5ef1-66d2-43dc-ce0b-01954dd56498"
      },
      "execution_count": null,
      "outputs": [
        {
          "output_type": "execute_result",
          "data": {
            "text/plain": [
              "array([['5', '1', '36', ..., 'Verified', 'https://www.lendingclub.com/browse/loanDetail.action?loan_id=48010226', 'CA'],\n",
              "       ['0', '1', '36', ..., 'Source Verified', 'https://www.lendingclub.com/browse/loanDetail.action?loan_id=57693261', 'NY'],\n",
              "       ['9', '1', '36', ..., 'Verified', 'https://www.lendingclub.com/browse/loanDetail.action?loan_id=59432726', 'PA'],\n",
              "       ...,\n",
              "       ['6', '1', '36', ..., 'Source Verified', 'https://www.lendingclub.com/browse/loanDetail.action?loan_id=50415990', 'CA'],\n",
              "       ['4', '1', '36', ..., 'Source Verified', 'https://www.lendingclub.com/browse/loanDetail.action?loan_id=46154151', 'OH'],\n",
              "       ['12', '1', '36', ..., '', 'https://www.lendingclub.com/browse/loanDetail.action?loan_id=66055249', 'IL']], dtype='<U69')"
            ]
          },
          "metadata": {},
          "execution_count": 57
        }
      ]
    },
    {
      "cell_type": "code",
      "source": [
        "header_strings"
      ],
      "metadata": {
        "colab": {
          "base_uri": "https://localhost:8080/"
        },
        "id": "az6r9zxH-1Yj",
        "outputId": "e14dc146-8209-4193-9748-aab91ff03da1"
      },
      "execution_count": null,
      "outputs": [
        {
          "output_type": "execute_result",
          "data": {
            "text/plain": [
              "array(['issue_date', 'loan_status', 'term_months', 'grade', 'sub_grade', 'verification_status', 'url', 'addr_state'], dtype='<U19')"
            ]
          },
          "metadata": {},
          "execution_count": 58
        }
      ]
    },
    {
      "cell_type": "code",
      "source": [
        "header_strings = np.delete(header_strings,3)"
      ],
      "metadata": {
        "id": "meuY3i0i-3cf"
      },
      "execution_count": null,
      "outputs": []
    },
    {
      "cell_type": "code",
      "source": [
        "header_strings"
      ],
      "metadata": {
        "colab": {
          "base_uri": "https://localhost:8080/"
        },
        "id": "9nX3bhOH_A5H",
        "outputId": "a1ed5c0a-fdd0-4ef0-d826-e0a983850fe4"
      },
      "execution_count": null,
      "outputs": [
        {
          "output_type": "execute_result",
          "data": {
            "text/plain": [
              "array(['issue_date', 'loan_status', 'term_months', 'sub_grade', 'verification_status', 'url', 'addr_state'], dtype='<U19')"
            ]
          },
          "metadata": {},
          "execution_count": 60
        }
      ]
    },
    {
      "cell_type": "markdown",
      "source": [
        "**Converting Sub_Grade**"
      ],
      "metadata": {
        "id": "qKws1rcib7TK"
      }
    },
    {
      "cell_type": "code",
      "source": [
        "np.unique(load_data_strings[:,3])"
      ],
      "metadata": {
        "id": "LlItMHaA_xCy",
        "colab": {
          "base_uri": "https://localhost:8080/"
        },
        "outputId": "e6936ebd-63c6-4e9f-e8a9-8acdd7245e30"
      },
      "execution_count": null,
      "outputs": [
        {
          "output_type": "execute_result",
          "data": {
            "text/plain": [
              "array(['A1', 'A2', 'A3', 'A4', 'A5', 'B1', 'B2', 'B3', 'B4', 'B5', 'C1', 'C2', 'C3', 'C4', 'C5', 'D1', 'D2', 'D3', 'D4', 'D5', 'E1', 'E2', 'E3', 'E4', 'E5', 'F1', 'F2', 'F3', 'F4', 'F5', 'G1', 'G2', 'G3', 'G4', 'G5', 'H1'], dtype='<U69')"
            ]
          },
          "metadata": {},
          "execution_count": 61
        }
      ]
    },
    {
      "cell_type": "code",
      "source": [
        "# Converting sub_grades into an dictionary. So we can assign numeric values.\n",
        "keys = list(np.unique(load_data_strings[:,3]))\n",
        "values = list(range(1, np.unique(load_data_strings[:,3]).shape[0] + 1))\n",
        "dict_sub_grade = dict(zip(keys, values))"
      ],
      "metadata": {
        "id": "0_B3AFk8cab0"
      },
      "execution_count": null,
      "outputs": []
    },
    {
      "cell_type": "code",
      "source": [
        "dict_sub_grade"
      ],
      "metadata": {
        "colab": {
          "base_uri": "https://localhost:8080/"
        },
        "id": "Ddgc0SEid3zp",
        "outputId": "137f1b52-7126-468a-a722-8a402c8b9945"
      },
      "execution_count": null,
      "outputs": [
        {
          "output_type": "execute_result",
          "data": {
            "text/plain": [
              "{'A1': 1,\n",
              " 'A2': 2,\n",
              " 'A3': 3,\n",
              " 'A4': 4,\n",
              " 'A5': 5,\n",
              " 'B1': 6,\n",
              " 'B2': 7,\n",
              " 'B3': 8,\n",
              " 'B4': 9,\n",
              " 'B5': 10,\n",
              " 'C1': 11,\n",
              " 'C2': 12,\n",
              " 'C3': 13,\n",
              " 'C4': 14,\n",
              " 'C5': 15,\n",
              " 'D1': 16,\n",
              " 'D2': 17,\n",
              " 'D3': 18,\n",
              " 'D4': 19,\n",
              " 'D5': 20,\n",
              " 'E1': 21,\n",
              " 'E2': 22,\n",
              " 'E3': 23,\n",
              " 'E4': 24,\n",
              " 'E5': 25,\n",
              " 'F1': 26,\n",
              " 'F2': 27,\n",
              " 'F3': 28,\n",
              " 'F4': 29,\n",
              " 'F5': 30,\n",
              " 'G1': 31,\n",
              " 'G2': 32,\n",
              " 'G3': 33,\n",
              " 'G4': 34,\n",
              " 'G5': 35,\n",
              " 'H1': 36}"
            ]
          },
          "metadata": {},
          "execution_count": 63
        }
      ]
    },
    {
      "cell_type": "code",
      "source": [
        "# Pass numeric value to load_data_strings, instead of A1, A2..\n",
        "for i in np.unique(load_data_strings[:,3]):\n",
        "  load_data_strings[:,3] = np.where((load_data_strings[:,3] == i), dict_sub_grade[i], load_data_strings[:,3])"
      ],
      "metadata": {
        "id": "YzHIlFOseWp7"
      },
      "execution_count": null,
      "outputs": []
    },
    {
      "cell_type": "code",
      "source": [
        "np.unique(load_data_strings[:,3])"
      ],
      "metadata": {
        "colab": {
          "base_uri": "https://localhost:8080/"
        },
        "id": "GsUx-KEVfSsk",
        "outputId": "95f1bc8f-867f-4aa8-9c03-9c4700a4f97f"
      },
      "execution_count": null,
      "outputs": [
        {
          "output_type": "execute_result",
          "data": {
            "text/plain": [
              "array(['1', '10', '11', '12', '13', '14', '15', '16', '17', '18', '19', '2', '20', '21', '22', '23', '24', '25', '26', '27', '28', '29', '3', '30', '31', '32', '33', '34', '35', '36', '4', '5', '6', '7', '8', '9'], dtype='<U69')"
            ]
          },
          "metadata": {},
          "execution_count": 65
        }
      ]
    },
    {
      "cell_type": "markdown",
      "source": [
        "**Verification Status**"
      ],
      "metadata": {
        "id": "UaT09t30g-V5"
      }
    },
    {
      "cell_type": "code",
      "source": [
        "header_strings"
      ],
      "metadata": {
        "colab": {
          "base_uri": "https://localhost:8080/"
        },
        "id": "SHCwGLlzhBlS",
        "outputId": "4217d966-fc6d-405a-e520-02552af93cfa"
      },
      "execution_count": null,
      "outputs": [
        {
          "output_type": "execute_result",
          "data": {
            "text/plain": [
              "array(['issue_date', 'loan_status', 'term_months', 'sub_grade', 'verification_status', 'url', 'addr_state'], dtype='<U19')"
            ]
          },
          "metadata": {},
          "execution_count": 66
        }
      ]
    },
    {
      "cell_type": "code",
      "source": [
        "np.unique(load_data_strings[:,4])"
      ],
      "metadata": {
        "colab": {
          "base_uri": "https://localhost:8080/"
        },
        "id": "UlUgI6Zyhbn8",
        "outputId": "dfba1753-f0ef-4879-eb56-eb26989ccdc2"
      },
      "execution_count": null,
      "outputs": [
        {
          "output_type": "execute_result",
          "data": {
            "text/plain": [
              "array(['', 'Not Verified', 'Source Verified', 'Verified'], dtype='<U69')"
            ]
          },
          "metadata": {},
          "execution_count": 67
        }
      ]
    },
    {
      "cell_type": "code",
      "source": [
        "# Assuming empty string ~~ to Not Verified.\n",
        "# Make 2 Groups - {'',Not Verified} and {SOurce Verified, Verified}\n",
        "load_data_strings[:,4] = np.where((load_data_strings[:,4] == '') | (load_data_strings[:,4] == 'Not Verified'), 0, 1)"
      ],
      "metadata": {
        "id": "xWEpgUvChmz9"
      },
      "execution_count": null,
      "outputs": []
    },
    {
      "cell_type": "code",
      "source": [
        "np.unique(load_data_strings[:,4])"
      ],
      "metadata": {
        "colab": {
          "base_uri": "https://localhost:8080/"
        },
        "id": "wBkMEvofk_Vg",
        "outputId": "f973f7d3-952b-4e61-8735-75e5fe666d26"
      },
      "execution_count": null,
      "outputs": [
        {
          "output_type": "execute_result",
          "data": {
            "text/plain": [
              "array(['0', '1'], dtype='<U69')"
            ]
          },
          "metadata": {},
          "execution_count": 69
        }
      ]
    },
    {
      "cell_type": "markdown",
      "source": [
        "**URL**"
      ],
      "metadata": {
        "id": "rYa0gSHY9Lzt"
      }
    },
    {
      "cell_type": "code",
      "source": [
        "np.unique(load_data_strings[:,5])"
      ],
      "metadata": {
        "colab": {
          "base_uri": "https://localhost:8080/"
        },
        "id": "sQlx0U648tiW",
        "outputId": "1b4e15e9-4d2c-4857-91cf-b76a357d237a"
      },
      "execution_count": null,
      "outputs": [
        {
          "output_type": "execute_result",
          "data": {
            "text/plain": [
              "array(['https://www.lendingclub.com/browse/loanDetail.action?loan_id=12606806', 'https://www.lendingclub.com/browse/loanDetail.action?loan_id=13026045', 'https://www.lendingclub.com/browse/loanDetail.action?loan_id=1312426', ..., 'https://www.lendingclub.com/browse/loanDetail.action?loan_id=8138291', 'https://www.lendingclub.com/browse/loanDetail.action?loan_id=8214572', 'https://www.lendingclub.com/browse/loanDetail.action?loan_id=849994'], dtype='<U69')"
            ]
          },
          "metadata": {},
          "execution_count": 70
        }
      ]
    },
    {
      "cell_type": "code",
      "source": [
        "# ONly keep ID part, remove repeating part using strip\n",
        "load_data_strings[:,5] = np.chararray.strip(load_data_strings[:,5],'https://www.lendingclub.com/browse/loanDetail.action?loan_id=')\n",
        "load_data_strings[:,5]"
      ],
      "metadata": {
        "colab": {
          "base_uri": "https://localhost:8080/"
        },
        "id": "SYLR-uCq9SRT",
        "outputId": "a819cd4a-2a8b-4bbc-af01-89b383949549"
      },
      "execution_count": null,
      "outputs": [
        {
          "output_type": "execute_result",
          "data": {
            "text/plain": [
              "array(['48010226', '57693261', '59432726', ..., '50415990', '46154151', '66055249'], dtype='<U69')"
            ]
          },
          "metadata": {},
          "execution_count": 71
        }
      ]
    },
    {
      "cell_type": "code",
      "source": [
        "header_full"
      ],
      "metadata": {
        "colab": {
          "base_uri": "https://localhost:8080/"
        },
        "id": "MJFlJluO9p2m",
        "outputId": "d48c4459-736f-4dda-b125-0dcdb218d825"
      },
      "execution_count": null,
      "outputs": [
        {
          "output_type": "execute_result",
          "data": {
            "text/plain": [
              "array(['id', 'issue_d', 'loan_amnt', 'loan_status', 'funded_amnt', 'term', 'int_rate', 'installment', 'grade', 'sub_grade', 'verification_status', 'url', 'addr_state', 'total_pymnt'], dtype='<U19')"
            ]
          },
          "metadata": {},
          "execution_count": 72
        }
      ]
    },
    {
      "cell_type": "code",
      "source": [
        "# Convert data to numeric and compare if id and url value are same or not.\n",
        "load_data_numeric[:,0].astype(dtype = int)"
      ],
      "metadata": {
        "colab": {
          "base_uri": "https://localhost:8080/"
        },
        "id": "09I571Zb91GO",
        "outputId": "7692e182-6246-4b41-c728-5a025371fb57"
      },
      "execution_count": null,
      "outputs": [
        {
          "output_type": "execute_result",
          "data": {
            "text/plain": [
              "array([68616520, 48010226, 57693261, ..., 50415990, 46154151, 66055249])"
            ]
          },
          "metadata": {},
          "execution_count": 73
        }
      ]
    },
    {
      "cell_type": "code",
      "source": [
        "load_data_strings[:,5].astype(dtype = int)"
      ],
      "metadata": {
        "colab": {
          "base_uri": "https://localhost:8080/"
        },
        "id": "1t3gFL_B-DGi",
        "outputId": "33bffdd8-5165-43bd-9f58-4ae32f03f493"
      },
      "execution_count": null,
      "outputs": [
        {
          "output_type": "execute_result",
          "data": {
            "text/plain": [
              "array([48010226, 57693261, 59432726, ..., 50415990, 46154151, 66055249])"
            ]
          },
          "metadata": {},
          "execution_count": 74
        }
      ]
    },
    {
      "cell_type": "code",
      "source": [
        "load_data_numeric[:,0].astype(dtype = int).shape[0]"
      ],
      "metadata": {
        "colab": {
          "base_uri": "https://localhost:8080/"
        },
        "id": "xNxzVskvFEzF",
        "outputId": "1d4a30ac-b243-45d5-ba36-8b70c8deb440"
      },
      "execution_count": null,
      "outputs": [
        {
          "output_type": "execute_result",
          "data": {
            "text/plain": [
              "10001"
            ]
          },
          "metadata": {},
          "execution_count": 75
        }
      ]
    },
    {
      "cell_type": "code",
      "source": [
        "load_data_strings[:,5].shape[0]"
      ],
      "metadata": {
        "colab": {
          "base_uri": "https://localhost:8080/"
        },
        "id": "dkxQRLdfFGTA",
        "outputId": "c4aabd80-ed79-4311-f872-38596d99d648"
      },
      "execution_count": null,
      "outputs": [
        {
          "output_type": "execute_result",
          "data": {
            "text/plain": [
              "10000"
            ]
          },
          "metadata": {},
          "execution_count": 76
        }
      ]
    },
    {
      "cell_type": "code",
      "source": [
        "index = np.where(load_data_numeric == 68616520)[0][0]\n",
        "index"
      ],
      "metadata": {
        "colab": {
          "base_uri": "https://localhost:8080/"
        },
        "id": "SVTp5JX4Fy-R",
        "outputId": "6428fde7-311b-451b-8df4-80b256bf0bfc"
      },
      "execution_count": null,
      "outputs": [
        {
          "output_type": "execute_result",
          "data": {
            "text/plain": [
              "0"
            ]
          },
          "metadata": {},
          "execution_count": 77
        }
      ]
    },
    {
      "cell_type": "code",
      "source": [
        "load_data_numeric = np.delete(load_data_numeric, 0, axis=0)\n",
        "load_data_numeric.shape"
      ],
      "metadata": {
        "colab": {
          "base_uri": "https://localhost:8080/"
        },
        "id": "IdvDJdgEGAVF",
        "outputId": "fc0a8d54-737f-4c7c-f22a-8355015fcfe1"
      },
      "execution_count": null,
      "outputs": [
        {
          "output_type": "execute_result",
          "data": {
            "text/plain": [
              "(10000, 6)"
            ]
          },
          "metadata": {},
          "execution_count": 78
        }
      ]
    },
    {
      "cell_type": "code",
      "source": [
        "np.array_equal(load_data_numeric[:,0].astype(dtype = np.int32), load_data_strings[:,5].astype(dtype = np.int32))"
      ],
      "metadata": {
        "colab": {
          "base_uri": "https://localhost:8080/"
        },
        "id": "N8JxpwjH-Vq-",
        "outputId": "a9692ef8-b684-4489-9ecb-b477f8df668b"
      },
      "execution_count": null,
      "outputs": [
        {
          "output_type": "execute_result",
          "data": {
            "text/plain": [
              "True"
            ]
          },
          "metadata": {},
          "execution_count": 79
        }
      ]
    },
    {
      "cell_type": "code",
      "source": [
        "# Since both id and URL columns are same, we can remove url column.\n",
        "load_data_strings = np.delete(load_data_strings, 5, axis = 1)\n",
        "header_strings = np.delete(header_strings, 5)"
      ],
      "metadata": {
        "id": "i6iWxrc3G_Oh"
      },
      "execution_count": null,
      "outputs": []
    },
    {
      "cell_type": "code",
      "source": [
        "header_strings"
      ],
      "metadata": {
        "colab": {
          "base_uri": "https://localhost:8080/"
        },
        "id": "iUYKakC3HQuv",
        "outputId": "20ac9888-43b0-4da1-d8e4-2732166c1c54"
      },
      "execution_count": null,
      "outputs": [
        {
          "output_type": "execute_result",
          "data": {
            "text/plain": [
              "array(['issue_date', 'loan_status', 'term_months', 'sub_grade', 'verification_status', 'addr_state'], dtype='<U19')"
            ]
          },
          "metadata": {},
          "execution_count": 81
        }
      ]
    },
    {
      "cell_type": "code",
      "source": [
        "load_data_strings[:,5]"
      ],
      "metadata": {
        "colab": {
          "base_uri": "https://localhost:8080/"
        },
        "id": "AMDKejzqHZFS",
        "outputId": "3fa80ddc-ade5-4819-9be1-e509c9e4b3ed"
      },
      "execution_count": null,
      "outputs": [
        {
          "output_type": "execute_result",
          "data": {
            "text/plain": [
              "array(['CA', 'NY', 'PA', ..., 'CA', 'OH', 'IL'], dtype='<U69')"
            ]
          },
          "metadata": {},
          "execution_count": 82
        }
      ]
    },
    {
      "cell_type": "code",
      "source": [
        "header_strings"
      ],
      "metadata": {
        "colab": {
          "base_uri": "https://localhost:8080/"
        },
        "id": "Gnz0SXn6NZmI",
        "outputId": "4b6eb153-7cd0-4af6-e522-8ad11232ff4c"
      },
      "execution_count": null,
      "outputs": [
        {
          "output_type": "execute_result",
          "data": {
            "text/plain": [
              "array(['issue_date', 'loan_status', 'term_months', 'sub_grade', 'verification_status', 'addr_state'], dtype='<U19')"
            ]
          },
          "metadata": {},
          "execution_count": 83
        }
      ]
    },
    {
      "cell_type": "markdown",
      "source": [
        "**verification_status**"
      ],
      "metadata": {
        "id": "i70AJ9lUNqIf"
      }
    },
    {
      "cell_type": "code",
      "source": [
        "np.unique(load_data_strings[:,4])"
      ],
      "metadata": {
        "colab": {
          "base_uri": "https://localhost:8080/"
        },
        "id": "zGjMVOyANw2j",
        "outputId": "d4524d49-445f-4dbc-b225-6ae40866a804"
      },
      "execution_count": null,
      "outputs": [
        {
          "output_type": "execute_result",
          "data": {
            "text/plain": [
              "array(['0', '1'], dtype='<U69')"
            ]
          },
          "metadata": {},
          "execution_count": 84
        }
      ]
    },
    {
      "cell_type": "markdown",
      "source": [
        "***State Address***"
      ],
      "metadata": {
        "id": "1MpgVkyUN9jR"
      }
    },
    {
      "cell_type": "code",
      "source": [
        "np.unique(load_data_strings[:,5])"
      ],
      "metadata": {
        "colab": {
          "base_uri": "https://localhost:8080/"
        },
        "id": "rrE5e4mXOmc8",
        "outputId": "7b2c7d0c-ea24-408a-d380-aef3621dd225"
      },
      "execution_count": null,
      "outputs": [
        {
          "output_type": "execute_result",
          "data": {
            "text/plain": [
              "array(['', 'AK', 'AL', 'AR', 'AZ', 'CA', 'CO', 'CT', 'DC', 'DE', 'FL', 'GA', 'HI', 'IL', 'IN', 'KS', 'KY', 'LA', 'MA', 'MD', 'ME', 'MI', 'MN', 'MO', 'MS', 'MT', 'NC', 'ND', 'NE', 'NH', 'NJ', 'NM', 'NV', 'NY', 'OH', 'OK', 'OR', 'PA', 'RI', 'SC', 'SD', 'TN', 'TX', 'UT', 'VA', 'VT', 'WA', 'WI', 'WV', 'WY'], dtype='<U69')"
            ]
          },
          "metadata": {},
          "execution_count": 85
        }
      ]
    },
    {
      "cell_type": "code",
      "source": [
        "states_names, states_count = np.unique(load_data_strings[:,5], return_counts = True)"
      ],
      "metadata": {
        "id": "fycLKiaoN4zx"
      },
      "execution_count": null,
      "outputs": []
    },
    {
      "cell_type": "code",
      "source": [
        "states_count_sorted = np.argsort(-states_count)\n",
        "states_names[states_count_sorted],states_count[states_count_sorted]"
      ],
      "metadata": {
        "colab": {
          "base_uri": "https://localhost:8080/"
        },
        "id": "nF-MHEroN8nw",
        "outputId": "6a707531-1a75-4ad4-f7a8-d9fef82e5bb1"
      },
      "execution_count": null,
      "outputs": [
        {
          "output_type": "execute_result",
          "data": {
            "text/plain": [
              "(array(['CA', 'NY', 'TX', 'FL', '', 'IL', 'NJ', 'GA', 'PA', 'OH', 'MI', 'NC', 'VA', 'MD', 'AZ', 'WA', 'MA', 'CO', 'MO', 'MN', 'IN', 'WI', 'CT', 'TN', 'NV', 'AL', 'LA', 'OR', 'SC', 'KY', 'KS', 'OK', 'UT', 'AR', 'MS', 'NH', 'NM', 'WV', 'HI', 'RI', 'MT', 'DE', 'DC', 'WY', 'AK', 'NE', 'SD', 'VT', 'ND', 'ME'], dtype='<U69'),\n",
              " array([1336,  777,  758,  690,  500,  389,  341,  321,  320,  312,  267,  261,  242,  222,  220,  216,  210,  201,  160,  156,  152,  148,  143,  143,  130,  119,  116,  108,  107,   84,   84,   83,   74,   74,   61,   58,   57,   49,   44,   40,   28,   27,   27,   27,   26,   25,   24,   17,   16,   10]))"
            ]
          },
          "metadata": {},
          "execution_count": 87
        }
      ]
    },
    {
      "cell_type": "code",
      "source": [
        "# Pass 0 in empty spaces\n",
        "load_data_strings[:,5] = np.where(load_data_strings[:,5] == '', 0, load_data_strings[:,5])"
      ],
      "metadata": {
        "id": "-A3RU-E7O_3q"
      },
      "execution_count": null,
      "outputs": []
    },
    {
      "cell_type": "code",
      "source": [
        "# Divide states in 4 categories\n",
        "states_west = np.array(['WA', 'OR','CA','NV','ID','MT', 'WY','UT','CO', 'AZ','NM','HI','AK'])\n",
        "states_south = np.array(['TX','OK','AR','LA','MS','AL','TN','KY','FL','GA','SC','WV','VA','MD','DE','NC','RI','SC','DC'])\n",
        "states_midwest = np.array(['ND','SD','NE','KS','MN','IA','MO','WI','IL','IN','MI','OH'])\n",
        "states_east = np.array(['PA','NY','NJ','CT','MA','VT','NH','ME','RI'])"
      ],
      "metadata": {
        "id": "F8o5IB4QPh2m"
      },
      "execution_count": null,
      "outputs": []
    },
    {
      "cell_type": "code",
      "source": [
        "load_data_strings[:,5] = np.where(np.isin(load_data_strings[:,5],states_west), 1, load_data_strings[:,5])\n",
        "load_data_strings[:,5] = np.where(np.isin(load_data_strings[:,5],states_south), 2, load_data_strings[:,5])\n",
        "load_data_strings[:,5] = np.where(np.isin(load_data_strings[:,5],states_midwest), 3, load_data_strings[:,5])\n",
        "load_data_strings[:,5] = np.where(np.isin(load_data_strings[:,5],states_east), 4, load_data_strings[:,5])"
      ],
      "metadata": {
        "id": "_rfEMFGWQOmj"
      },
      "execution_count": null,
      "outputs": []
    },
    {
      "cell_type": "code",
      "source": [
        "np.unique(load_data_strings[:,5])\n"
      ],
      "metadata": {
        "colab": {
          "base_uri": "https://localhost:8080/"
        },
        "id": "mySZL-q4SOb5",
        "outputId": "8da7a01c-a260-4b44-9973-fe55264f0f07"
      },
      "execution_count": null,
      "outputs": [
        {
          "output_type": "execute_result",
          "data": {
            "text/plain": [
              "array(['0', '1', '2', '3', '4'], dtype='<U69')"
            ]
          },
          "metadata": {},
          "execution_count": 91
        }
      ]
    },
    {
      "cell_type": "markdown",
      "source": [
        "**Converting to Numbers**"
      ],
      "metadata": {
        "id": "l9v5m5DwSTCl"
      }
    },
    {
      "cell_type": "code",
      "source": [
        "load_data_strings"
      ],
      "metadata": {
        "colab": {
          "base_uri": "https://localhost:8080/"
        },
        "id": "P15s_1U3SXpx",
        "outputId": "d80aa920-d5cc-4a3f-80c3-5724479d55f9"
      },
      "execution_count": null,
      "outputs": [
        {
          "output_type": "execute_result",
          "data": {
            "text/plain": [
              "array([['5', '1', '36', '13', '1', '1'],\n",
              "       ['0', '1', '36', '5', '1', '4'],\n",
              "       ['9', '1', '36', '10', '1', '4'],\n",
              "       ...,\n",
              "       ['6', '1', '36', '5', '1', '1'],\n",
              "       ['4', '1', '36', '17', '1', '3'],\n",
              "       ['12', '1', '36', '4', '0', '3']], dtype='<U69')"
            ]
          },
          "metadata": {},
          "execution_count": 92
        }
      ]
    },
    {
      "cell_type": "code",
      "source": [
        "# Since all values are string convert to numbers\n",
        "load_data_strings = load_data_strings.astype(dtype = int)\n",
        "load_data_strings"
      ],
      "metadata": {
        "colab": {
          "base_uri": "https://localhost:8080/"
        },
        "id": "yDG-k_y3Sgsz",
        "outputId": "5c93de87-51b2-457a-882f-19da2de1cae8"
      },
      "execution_count": null,
      "outputs": [
        {
          "output_type": "execute_result",
          "data": {
            "text/plain": [
              "array([[ 5,  1, 36, 13,  1,  1],\n",
              "       [ 0,  1, 36,  5,  1,  4],\n",
              "       [ 9,  1, 36, 10,  1,  4],\n",
              "       ...,\n",
              "       [ 6,  1, 36,  5,  1,  1],\n",
              "       [ 4,  1, 36, 17,  1,  3],\n",
              "       [12,  1, 36,  4,  0,  3]])"
            ]
          },
          "metadata": {},
          "execution_count": 93
        }
      ]
    },
    {
      "cell_type": "markdown",
      "source": [
        "**Creating checkpoint1:**"
      ],
      "metadata": {
        "id": "Xc6Pk4XLS0-v"
      }
    },
    {
      "cell_type": "code",
      "source": [
        "checkpoint_strings = checkpoint(\"checkpoint_strings\", header_strings, load_data_strings)\n",
        "checkpoint_strings['header']"
      ],
      "metadata": {
        "colab": {
          "base_uri": "https://localhost:8080/"
        },
        "id": "pdTGRSHcS87O",
        "outputId": "3c9829cc-731b-44f6-981c-0bdfcfeaf155"
      },
      "execution_count": null,
      "outputs": [
        {
          "output_type": "execute_result",
          "data": {
            "text/plain": [
              "array(['issue_date', 'loan_status', 'term_months', 'sub_grade', 'verification_status', 'addr_state'], dtype='<U19')"
            ]
          },
          "metadata": {},
          "execution_count": 94
        }
      ]
    },
    {
      "cell_type": "code",
      "source": [
        "checkpoint_strings['data']"
      ],
      "metadata": {
        "colab": {
          "base_uri": "https://localhost:8080/"
        },
        "id": "IMh-0Pa3TOKv",
        "outputId": "957b70da-0080-4c9a-8247-8a582465af4e"
      },
      "execution_count": null,
      "outputs": [
        {
          "output_type": "execute_result",
          "data": {
            "text/plain": [
              "array([[ 5,  1, 36, 13,  1,  1],\n",
              "       [ 0,  1, 36,  5,  1,  4],\n",
              "       [ 9,  1, 36, 10,  1,  4],\n",
              "       ...,\n",
              "       [ 6,  1, 36,  5,  1,  1],\n",
              "       [ 4,  1, 36, 17,  1,  3],\n",
              "       [12,  1, 36,  4,  0,  3]])"
            ]
          },
          "metadata": {},
          "execution_count": 95
        }
      ]
    },
    {
      "cell_type": "code",
      "source": [
        "np.array_equal(load_data_strings, checkpoint_strings['data'])"
      ],
      "metadata": {
        "colab": {
          "base_uri": "https://localhost:8080/"
        },
        "id": "3xHAq0s0Tw8s",
        "outputId": "db59eba8-624c-447c-8c50-ef9d56a8946e"
      },
      "execution_count": null,
      "outputs": [
        {
          "output_type": "execute_result",
          "data": {
            "text/plain": [
              "True"
            ]
          },
          "metadata": {},
          "execution_count": 96
        }
      ]
    },
    {
      "cell_type": "markdown",
      "source": [
        "**MANIPULATING NUMERIC COLUMNS:** [load_data_numeric]"
      ],
      "metadata": {
        "id": "55lA7Ev_T3FV"
      }
    },
    {
      "cell_type": "code",
      "source": [
        "load_data_numeric"
      ],
      "metadata": {
        "colab": {
          "base_uri": "https://localhost:8080/"
        },
        "id": "eygutL9eUXFQ",
        "outputId": "dfe69389-7f5c-42ec-9dcb-d5d1b4be2bf2"
      },
      "execution_count": null,
      "outputs": [
        {
          "output_type": "execute_result",
          "data": {
            "text/plain": [
              "array([[4.8010226e+07, 3.5000000e+04, 3.5000000e+04, 1.3330000e+01, 1.1848600e+03, 9.4529600e+03],\n",
              "       [5.7693261e+07, 3.0000000e+04, 3.0000000e+04, 6.8616520e+07, 9.3857000e+02, 4.6797000e+03],\n",
              "       [5.9432726e+07, 1.5000000e+04, 1.5000000e+04, 6.8616520e+07, 4.9486000e+02, 1.9698300e+03],\n",
              "       ...,\n",
              "       [5.0415990e+07, 1.0000000e+04, 1.0000000e+04, 6.8616520e+07, 6.8616520e+07, 2.1856400e+03],\n",
              "       [4.6154151e+07, 6.8616520e+07, 1.0000000e+04, 1.6550000e+01, 3.5430000e+02, 3.1994000e+03],\n",
              "       [6.6055249e+07, 1.0000000e+04, 1.0000000e+04, 6.8616520e+07, 3.0997000e+02, 3.0190000e+02]])"
            ]
          },
          "metadata": {},
          "execution_count": 97
        }
      ]
    },
    {
      "cell_type": "code",
      "source": [
        "# 0 specifies theres no missing data here.\n",
        "np.isnan(load_data_numeric).sum()"
      ],
      "metadata": {
        "colab": {
          "base_uri": "https://localhost:8080/"
        },
        "id": "58sKQYpAU2xP",
        "outputId": "c5a9bd0a-d4d0-407d-c185-d076c0ec807e"
      },
      "execution_count": null,
      "outputs": [
        {
          "output_type": "execute_result",
          "data": {
            "text/plain": [
              "0"
            ]
          },
          "metadata": {},
          "execution_count": 98
        }
      ]
    },
    {
      "cell_type": "code",
      "source": [
        "# But when we created load_numeric_data array, we have filled all missing values using temporary_fill\n"
      ],
      "metadata": {
        "id": "DlLMdOfFVANd"
      },
      "execution_count": null,
      "outputs": []
    },
    {
      "cell_type": "markdown",
      "source": [
        "**Substitute Filler Values**"
      ],
      "metadata": {
        "id": "OdIskRaYVRxV"
      }
    },
    {
      "cell_type": "code",
      "source": [
        "header_numeric"
      ],
      "metadata": {
        "colab": {
          "base_uri": "https://localhost:8080/"
        },
        "id": "Tkmfmj9AVVEN",
        "outputId": "cd0231e7-1d40-4fc1-d7a4-a012504c9156"
      },
      "execution_count": null,
      "outputs": [
        {
          "output_type": "execute_result",
          "data": {
            "text/plain": [
              "array(['id', 'loan_amnt', 'funded_amnt', 'int_rate', 'installment', 'total_pymnt'], dtype='<U19')"
            ]
          },
          "metadata": {},
          "execution_count": 100
        }
      ]
    },
    {
      "cell_type": "markdown",
      "source": [
        "**ID**"
      ],
      "metadata": {
        "id": "-qj8FYvyVjZ6"
      }
    },
    {
      "cell_type": "code",
      "source": [
        "# id should never be missing\n",
        "np.isnan(load_data_numeric[:,0]).sum()"
      ],
      "metadata": {
        "colab": {
          "base_uri": "https://localhost:8080/"
        },
        "id": "x25ce9r1VYbN",
        "outputId": "c4bfcd82-4506-4a0f-c731-3215fa3ebe84"
      },
      "execution_count": null,
      "outputs": [
        {
          "output_type": "execute_result",
          "data": {
            "text/plain": [
              "0"
            ]
          },
          "metadata": {},
          "execution_count": 101
        }
      ]
    },
    {
      "cell_type": "code",
      "source": [
        "temporary_fill"
      ],
      "metadata": {
        "colab": {
          "base_uri": "https://localhost:8080/"
        },
        "id": "yHc-o_YXVpQc",
        "outputId": "7a1c90ad-bd29-4897-fd68-d70d3573b403"
      },
      "execution_count": null,
      "outputs": [
        {
          "output_type": "execute_result",
          "data": {
            "text/plain": [
              "68616520.0"
            ]
          },
          "metadata": {},
          "execution_count": 102
        }
      ]
    },
    {
      "cell_type": "code",
      "source": [
        "np.isin(load_data_numeric[:,0], temporary_fill)"
      ],
      "metadata": {
        "colab": {
          "base_uri": "https://localhost:8080/"
        },
        "id": "8P0tWFN-VrFf",
        "outputId": "8ee701f3-e5bf-4bc5-f66f-7ecb5d65ca8d"
      },
      "execution_count": null,
      "outputs": [
        {
          "output_type": "execute_result",
          "data": {
            "text/plain": [
              "array([False, False, False, ..., False, False, False])"
            ]
          },
          "metadata": {},
          "execution_count": 103
        }
      ]
    },
    {
      "cell_type": "code",
      "source": [
        "np.isin(load_data_numeric[:,0], temporary_fill).sum()"
      ],
      "metadata": {
        "colab": {
          "base_uri": "https://localhost:8080/"
        },
        "id": "zrggVCahVxrR",
        "outputId": "1b57866e-612b-4416-c445-845a67b7796c"
      },
      "execution_count": null,
      "outputs": [
        {
          "output_type": "execute_result",
          "data": {
            "text/plain": [
              "0"
            ]
          },
          "metadata": {},
          "execution_count": 104
        }
      ]
    },
    {
      "cell_type": "code",
      "source": [
        "# This means we have not filled any missing values for column ID."
      ],
      "metadata": {
        "id": "qw-XNQrKV7LI"
      },
      "execution_count": null,
      "outputs": []
    },
    {
      "cell_type": "code",
      "source": [
        "header_numeric"
      ],
      "metadata": {
        "colab": {
          "base_uri": "https://localhost:8080/"
        },
        "id": "V0lEDnZwWALU",
        "outputId": "ab52a0a4-cf9c-4988-c91a-7334836c281f"
      },
      "execution_count": null,
      "outputs": [
        {
          "output_type": "execute_result",
          "data": {
            "text/plain": [
              "array(['id', 'loan_amnt', 'funded_amnt', 'int_rate', 'installment', 'total_pymnt'], dtype='<U19')"
            ]
          },
          "metadata": {},
          "execution_count": 106
        }
      ]
    },
    {
      "cell_type": "code",
      "source": [
        "# Considering Worst case: loan_amnt, int_rate, installement, total_pymnt all missing values will have max value as replacement .\n",
        "# Funded_amnt will have min value as replacemnet for missing values.\n",
        "# We created temporary_stats, which contans min, max and mean values."
      ],
      "metadata": {
        "id": "_NijP0qfWLPN"
      },
      "execution_count": null,
      "outputs": []
    },
    {
      "cell_type": "code",
      "source": [
        "temporary_stats\n",
        "# This contains many NaN values, These Nan are from string columns.\n",
        "# We defined column_strings, column_numerics."
      ],
      "metadata": {
        "colab": {
          "base_uri": "https://localhost:8080/"
        },
        "id": "zURxrFKhZEAs",
        "outputId": "b9dce384-3784-440f-8371-251e6fcb81b9"
      },
      "execution_count": null,
      "outputs": [
        {
          "output_type": "execute_result",
          "data": {
            "text/plain": [
              "array([[3.73332000e+05,            nan, 1.00000000e+03,            nan, 1.00000000e+03,            nan, 6.00000000e+00, 3.14200000e+01,            nan,            nan,            nan,            nan,            nan, 0.00000000e+00],\n",
              "       [5.40158092e+07,            nan, 1.52734632e+04,            nan, 1.53110421e+04,            nan, 1.66172948e+01, 4.40922179e+02,            nan,            nan,            nan,            nan,            nan, 3.14385094e+03],\n",
              "       [6.86165190e+07,            nan, 3.50000000e+04,            nan, 3.50000000e+04,            nan, 2.89900000e+01, 1.37297000e+03,            nan,            nan,            nan,            nan,            nan, 4.19136200e+04]])"
            ]
          },
          "metadata": {},
          "execution_count": 108
        }
      ]
    },
    {
      "cell_type": "code",
      "source": [
        "columns_numeric"
      ],
      "metadata": {
        "colab": {
          "base_uri": "https://localhost:8080/"
        },
        "id": "hQYdJiFJbBVJ",
        "outputId": "0a2bffd5-7770-4d53-b1c2-cdcca5243470"
      },
      "execution_count": null,
      "outputs": [
        {
          "output_type": "execute_result",
          "data": {
            "text/plain": [
              "array([ 0,  2,  4,  6,  7, 13])"
            ]
          },
          "metadata": {},
          "execution_count": 109
        }
      ]
    },
    {
      "cell_type": "code",
      "source": [
        "# So to  display only min, mean, max of numeric columns:\n",
        "temporary_stats[:,columns_numeric]"
      ],
      "metadata": {
        "colab": {
          "base_uri": "https://localhost:8080/"
        },
        "id": "dLSiYPzXa4EH",
        "outputId": "8f28eb4a-7036-4ad3-8f6c-e39db250e4b5"
      },
      "execution_count": null,
      "outputs": [
        {
          "output_type": "execute_result",
          "data": {
            "text/plain": [
              "array([[3.73332000e+05, 1.00000000e+03, 1.00000000e+03, 6.00000000e+00, 3.14200000e+01, 0.00000000e+00],\n",
              "       [5.40158092e+07, 1.52734632e+04, 1.53110421e+04, 1.66172948e+01, 4.40922179e+02, 3.14385094e+03],\n",
              "       [6.86165190e+07, 3.50000000e+04, 3.50000000e+04, 2.89900000e+01, 1.37297000e+03, 4.19136200e+04]])"
            ]
          },
          "metadata": {},
          "execution_count": 110
        }
      ]
    },
    {
      "cell_type": "code",
      "source": [
        "header_numeric"
      ],
      "metadata": {
        "colab": {
          "base_uri": "https://localhost:8080/"
        },
        "id": "cH2u0R7jbcK0",
        "outputId": "e04bb3fc-9a5c-4481-f3d0-c0b0b6c9cbb9"
      },
      "execution_count": null,
      "outputs": [
        {
          "output_type": "execute_result",
          "data": {
            "text/plain": [
              "array(['id', 'loan_amnt', 'funded_amnt', 'int_rate', 'installment', 'total_pymnt'], dtype='<U19')"
            ]
          },
          "metadata": {},
          "execution_count": 111
        }
      ]
    },
    {
      "cell_type": "markdown",
      "source": [
        "**Funded Amount** [Missing values = min of that col]"
      ],
      "metadata": {
        "id": "O7Vugl-QbgMY"
      }
    },
    {
      "cell_type": "code",
      "source": [
        "load_data_numeric[:,2]"
      ],
      "metadata": {
        "colab": {
          "base_uri": "https://localhost:8080/"
        },
        "id": "ndjK4XXxbeF7",
        "outputId": "61c51ab8-8e58-485a-bb87-c6e178a949f5"
      },
      "execution_count": null,
      "outputs": [
        {
          "output_type": "execute_result",
          "data": {
            "text/plain": [
              "array([35000., 30000., 15000., ..., 10000., 10000., 10000.])"
            ]
          },
          "metadata": {},
          "execution_count": 112
        }
      ]
    },
    {
      "cell_type": "code",
      "source": [
        "np.isin(load_data_numeric[:,2], temporary_fill)"
      ],
      "metadata": {
        "colab": {
          "base_uri": "https://localhost:8080/"
        },
        "id": "M26-1NxYbs1s",
        "outputId": "fe335fa2-11de-453f-9989-80776b9883f8"
      },
      "execution_count": null,
      "outputs": [
        {
          "output_type": "execute_result",
          "data": {
            "text/plain": [
              "array([False, False, False, ..., False, False, False])"
            ]
          },
          "metadata": {},
          "execution_count": 113
        }
      ]
    },
    {
      "cell_type": "code",
      "source": [
        "np.isin(load_data_numeric[:,2], temporary_fill).sum()"
      ],
      "metadata": {
        "colab": {
          "base_uri": "https://localhost:8080/"
        },
        "id": "arqKNd30bwB4",
        "outputId": "ef9afe1c-39cc-46fd-dfd8-df2a0e106f21"
      },
      "execution_count": null,
      "outputs": [
        {
          "output_type": "execute_result",
          "data": {
            "text/plain": [
              "500"
            ]
          },
          "metadata": {},
          "execution_count": 114
        }
      ]
    },
    {
      "cell_type": "code",
      "source": [
        "# Missing values have been replaced by temporary_fill\n",
        "# Now replace them with min value in col from temporary_stats\n",
        "load_data_numeric[:,2] = np.where(load_data_numeric[:,2] == temporary_fill, temporary_stats[0, columns_numeric[2]], load_data_numeric[:,2]) # Removed load_data_numeric[:,2] from the index as it is an array of floats\n",
        "load_data_numeric[:,2]"
      ],
      "metadata": {
        "colab": {
          "base_uri": "https://localhost:8080/"
        },
        "id": "FzlXxTzXbzYQ",
        "outputId": "63634ca1-b822-4281-aee4-a70074e8e4ec"
      },
      "execution_count": null,
      "outputs": [
        {
          "output_type": "execute_result",
          "data": {
            "text/plain": [
              "array([35000., 30000., 15000., ..., 10000., 10000., 10000.])"
            ]
          },
          "metadata": {},
          "execution_count": 115
        }
      ]
    },
    {
      "cell_type": "code",
      "source": [],
      "metadata": {
        "id": "Fbr_v_EFdCJt"
      },
      "execution_count": null,
      "outputs": []
    },
    {
      "cell_type": "markdown",
      "source": [
        "**Loaned Amount, Intrest rate, Total Paymnet, Installment**"
      ],
      "metadata": {
        "id": "Bj1QxRxZdFTi"
      }
    },
    {
      "cell_type": "code",
      "source": [
        "header_numeric"
      ],
      "metadata": {
        "colab": {
          "base_uri": "https://localhost:8080/"
        },
        "id": "9I_zclXnddZr",
        "outputId": "6fdfd46d-a272-45a2-e323-11d55f35c614"
      },
      "execution_count": null,
      "outputs": [
        {
          "output_type": "execute_result",
          "data": {
            "text/plain": [
              "array(['id', 'loan_amnt', 'funded_amnt', 'int_rate', 'installment', 'total_pymnt'], dtype='<U19')"
            ]
          },
          "metadata": {},
          "execution_count": 116
        }
      ]
    },
    {
      "cell_type": "code",
      "source": [
        "for i in [1,3,4,5]:\n",
        "  load_data_numeric[:,i] = np.where(load_data_numeric[:,i] == temporary_fill, temporary_stats[2, columns_numeric[i]], load_data_numeric[:,i])"
      ],
      "metadata": {
        "id": "r5J6wJArdkwB"
      },
      "execution_count": null,
      "outputs": []
    },
    {
      "cell_type": "code",
      "source": [
        "load_data_numeric"
      ],
      "metadata": {
        "colab": {
          "base_uri": "https://localhost:8080/"
        },
        "id": "30tunphBdyIv",
        "outputId": "78872bd5-95aa-46c7-beb3-613f83d8e142"
      },
      "execution_count": null,
      "outputs": [
        {
          "output_type": "execute_result",
          "data": {
            "text/plain": [
              "array([[4.8010226e+07, 3.5000000e+04, 3.5000000e+04, 1.3330000e+01, 1.1848600e+03, 9.4529600e+03],\n",
              "       [5.7693261e+07, 3.0000000e+04, 3.0000000e+04, 2.8990000e+01, 9.3857000e+02, 4.6797000e+03],\n",
              "       [5.9432726e+07, 1.5000000e+04, 1.5000000e+04, 2.8990000e+01, 4.9486000e+02, 1.9698300e+03],\n",
              "       ...,\n",
              "       [5.0415990e+07, 1.0000000e+04, 1.0000000e+04, 2.8990000e+01, 1.3729700e+03, 2.1856400e+03],\n",
              "       [4.6154151e+07, 3.5000000e+04, 1.0000000e+04, 1.6550000e+01, 3.5430000e+02, 3.1994000e+03],\n",
              "       [6.6055249e+07, 1.0000000e+04, 1.0000000e+04, 2.8990000e+01, 3.0997000e+02, 3.0190000e+02]])"
            ]
          },
          "metadata": {},
          "execution_count": 118
        }
      ]
    },
    {
      "cell_type": "markdown",
      "source": [
        "**Currency Rate**"
      ],
      "metadata": {
        "id": "FEsxdGR9eRX5"
      }
    },
    {
      "cell_type": "code",
      "source": [
        "# Now that all missing data is handled we need to Convert all currency in Euros from Dollars."
      ],
      "metadata": {
        "id": "qD4aT6ied0nu"
      },
      "execution_count": null,
      "outputs": []
    },
    {
      "cell_type": "markdown",
      "source": [
        "***The Exchange Rate ***"
      ],
      "metadata": {
        "id": "kynPnp1-eOqA"
      }
    },
    {
      "cell_type": "code",
      "source": [
        "# EUR_USD.csv contains average monthly exchange rates for year 2015.\n",
        "EUR_USD = np.genfromtxt('EUR-USD.csv', delimiter = ',', autostrip = True)\n",
        "EUR_USD"
      ],
      "metadata": {
        "colab": {
          "base_uri": "https://localhost:8080/"
        },
        "id": "pgCWPaUOeOAI",
        "outputId": "00793344-2994-4089-a846-b0e87f34276a"
      },
      "execution_count": null,
      "outputs": [
        {
          "output_type": "execute_result",
          "data": {
            "text/plain": [
              "array([[       nan,        nan,        nan,        nan,        nan],\n",
              "       [1.20986283, 1.20986283, 1.11055589, 1.1287955 , 0.        ],\n",
              "       [1.1287955 , 1.1484195 , 1.11768055, 1.12053609, 0.        ],\n",
              "       [1.1197958 , 1.12404001, 1.04600322, 1.08302462, 0.        ],\n",
              "       [1.07410228, 1.12475944, 1.05215979, 1.11143219, 0.        ],\n",
              "       [1.12150371, 1.1453048 , 1.08219957, 1.09603453, 0.        ],\n",
              "       [1.09590244, 1.14284015, 1.08889043, 1.12229669, 0.        ],\n",
              "       [1.11349893, 1.1219995 , 1.08127046, 1.0939244 , 0.        ],\n",
              "       [1.09690011, 1.1705997 , 1.08503056, 1.13400543, 0.        ],\n",
              "       [1.12259901, 1.14600039, 1.10896957, 1.12559378, 0.        ],\n",
              "       [1.11715615, 1.14942002, 1.09100032, 1.10089719, 0.        ],\n",
              "       [1.10249937, 1.10600019, 1.05640018, 1.05830181, 0.        ],\n",
              "       [1.05729473, 1.10700047, 1.05419958, 1.09339809, 0.        ]])"
            ]
          },
          "metadata": {},
          "execution_count": 120
        }
      ]
    },
    {
      "cell_type": "code",
      "source": [
        "# The first row having nan contain column names.\n",
        "EUR_USD = np.genfromtxt('EUR-USD.csv', delimiter = ',', autostrip = True, dtype = str)\n",
        "EUR_USD"
      ],
      "metadata": {
        "colab": {
          "base_uri": "https://localhost:8080/"
        },
        "id": "dEOmO8uXfFzk",
        "outputId": "dc025247-b570-4cbe-a674-609028c9e816"
      },
      "execution_count": null,
      "outputs": [
        {
          "output_type": "execute_result",
          "data": {
            "text/plain": [
              "array([['Open', 'High', 'Low', 'Close', 'Volume'],\n",
              "       ['1.2098628282546997', '1.2098628282546997', '1.11055588722229', '1.1287955045700073', '0'],\n",
              "       ['1.1287955045700073', '1.1484194993972778', '1.117680549621582', '1.1205360889434814', '0'],\n",
              "       ['1.119795799255371', '1.1240400075912476', '1.0460032224655151', '1.0830246210098267', '0'],\n",
              "       ['1.0741022825241089', '1.1247594356536865', '1.0521597862243652', '1.1114321947097778', '0'],\n",
              "       ['1.1215037107467651', '1.145304799079895', '1.0821995735168457', '1.0960345268249512', '0'],\n",
              "       ['1.095902442932129', '1.1428401470184326', '1.0888904333114624', '1.122296690940857', '0'],\n",
              "       ['1.1134989261627197', '1.1219995021820068', '1.081270456314087', '1.0939244031906128', '0'],\n",
              "       ['1.0969001054763794', '1.1705996990203857', '1.0850305557250977', '1.1340054273605347', '0'],\n",
              "       ['1.1225990056991577', '1.1460003852844238', '1.1089695692062378', '1.1255937814712524', '0'],\n",
              "       ['1.1171561479568481', '1.1494200229644775', '1.0910003185272217', '1.100897192955017', '0'],\n",
              "       ['1.1024993658065796', '1.1060001850128174', '1.056400179862976', '1.0583018064498901', '0'],\n",
              "       ['1.0572947263717651', '1.107000470161438', '1.0541995763778687', '1.093398094177246', '0']], dtype='<U18')"
            ]
          },
          "metadata": {},
          "execution_count": 121
        }
      ]
    },
    {
      "cell_type": "code",
      "source": [
        "# We only want closing value for each day:\n",
        "EUR_USD = np.genfromtxt('EUR-USD.csv', delimiter = ',', autostrip = True, skip_header = True, usecols = 3)\n",
        "EUR_USD"
      ],
      "metadata": {
        "colab": {
          "base_uri": "https://localhost:8080/"
        },
        "id": "yrqvE70efm9T",
        "outputId": "b2eced55-f7a3-479b-a775-13f7aa9d27ca"
      },
      "execution_count": null,
      "outputs": [
        {
          "output_type": "execute_result",
          "data": {
            "text/plain": [
              "array([1.1287955 , 1.12053609, 1.08302462, 1.11143219, 1.09603453, 1.12229669, 1.0939244 , 1.13400543, 1.12559378, 1.10089719, 1.05830181, 1.09339809])"
            ]
          },
          "metadata": {},
          "execution_count": 122
        }
      ]
    },
    {
      "cell_type": "code",
      "source": [
        "# This contain data about issue_date\n",
        "load_data_strings[:,0]"
      ],
      "metadata": {
        "colab": {
          "base_uri": "https://localhost:8080/"
        },
        "id": "T408HJ7Ogbx3",
        "outputId": "4dbf9ce3-c9bb-4dd2-c13d-54d2ad2d77db"
      },
      "execution_count": null,
      "outputs": [
        {
          "output_type": "execute_result",
          "data": {
            "text/plain": [
              "array([ 5,  0,  9, ...,  6,  4, 12])"
            ]
          },
          "metadata": {},
          "execution_count": 123
        }
      ]
    },
    {
      "cell_type": "code",
      "source": [
        "exchange_rate = load_data_strings[:,0]\n",
        "for i in range(1,13):\n",
        "  exchange_rate = np.where(exchange_rate == i, EUR_USD[i-1], exchange_rate)\n",
        "\n",
        "exchange_rate = np.where(exchange_rate == 0, np.mean(EUR_USD), exchange_rate)\n",
        "exchange_rate"
      ],
      "metadata": {
        "colab": {
          "base_uri": "https://localhost:8080/"
        },
        "id": "8JXxe7MHg4HK",
        "outputId": "7769ba3c-a2b6-45e8-fccf-ecf2f33d3adc"
      },
      "execution_count": null,
      "outputs": [
        {
          "output_type": "execute_result",
          "data": {
            "text/plain": [
              "array([1.09603453, 1.10568669, 1.12559378, ..., 1.12229669, 1.11143219, 1.09339809])"
            ]
          },
          "metadata": {},
          "execution_count": 124
        }
      ]
    },
    {
      "cell_type": "code",
      "source": [
        "exchange_rate.shape"
      ],
      "metadata": {
        "colab": {
          "base_uri": "https://localhost:8080/"
        },
        "id": "c8PhbOfTl2Xw",
        "outputId": "2e8f1fbf-dbe8-4ac2-ac08-6094cd8ddabe"
      },
      "execution_count": null,
      "outputs": [
        {
          "output_type": "execute_result",
          "data": {
            "text/plain": [
              "(10000,)"
            ]
          },
          "metadata": {},
          "execution_count": 125
        }
      ]
    },
    {
      "cell_type": "code",
      "source": [
        "load_data_numeric.shape"
      ],
      "metadata": {
        "colab": {
          "base_uri": "https://localhost:8080/"
        },
        "id": "rAxeJIfTl89y",
        "outputId": "9841160f-920c-4259-98f5-1852110a278e"
      },
      "execution_count": null,
      "outputs": [
        {
          "output_type": "execute_result",
          "data": {
            "text/plain": [
              "(10000, 6)"
            ]
          },
          "metadata": {},
          "execution_count": 126
        }
      ]
    },
    {
      "cell_type": "code",
      "source": [
        "# This will change shape from row vector to a column vector.\n",
        "exchange_rate = np.reshape(exchange_rate, (10000,1))\n",
        "exchange_rate.shape"
      ],
      "metadata": {
        "colab": {
          "base_uri": "https://localhost:8080/"
        },
        "id": "75_gdm2dmA2z",
        "outputId": "dd35855c-2a72-4964-efc8-7fe386fbc49f"
      },
      "execution_count": null,
      "outputs": [
        {
          "output_type": "execute_result",
          "data": {
            "text/plain": [
              "(10000, 1)"
            ]
          },
          "metadata": {},
          "execution_count": 127
        }
      ]
    },
    {
      "cell_type": "code",
      "source": [
        "# Merging load_data_numeric and exchange_rate\n",
        "load_data_numeric = np.hstack((load_data_numeric, exchange_rate))\n",
        "load_data_numeric"
      ],
      "metadata": {
        "colab": {
          "base_uri": "https://localhost:8080/"
        },
        "id": "66htyLrW0mBf",
        "outputId": "e931818c-66d6-43fb-a62d-fb44a278e4ce"
      },
      "execution_count": null,
      "outputs": [
        {
          "output_type": "execute_result",
          "data": {
            "text/plain": [
              "array([[4.80102260e+07, 3.50000000e+04, 3.50000000e+04, ..., 1.18486000e+03, 9.45296000e+03, 1.09603453e+00],\n",
              "       [5.76932610e+07, 3.00000000e+04, 3.00000000e+04, ..., 9.38570000e+02, 4.67970000e+03, 1.10568669e+00],\n",
              "       [5.94327260e+07, 1.50000000e+04, 1.50000000e+04, ..., 4.94860000e+02, 1.96983000e+03, 1.12559378e+00],\n",
              "       ...,\n",
              "       [5.04159900e+07, 1.00000000e+04, 1.00000000e+04, ..., 1.37297000e+03, 2.18564000e+03, 1.12229669e+00],\n",
              "       [4.61541510e+07, 3.50000000e+04, 1.00000000e+04, ..., 3.54300000e+02, 3.19940000e+03, 1.11143219e+00],\n",
              "       [6.60552490e+07, 1.00000000e+04, 1.00000000e+04, ..., 3.09970000e+02, 3.01900000e+02, 1.09339809e+00]])"
            ]
          },
          "metadata": {},
          "execution_count": 128
        }
      ]
    },
    {
      "cell_type": "code",
      "source": [
        "# Since we added new column to load_data_numeric, we will add column in header also.\n",
        "header_numeric = np.concatenate((header_numeric, np.array(['exchange_rate'])))\n",
        "header_numeric"
      ],
      "metadata": {
        "colab": {
          "base_uri": "https://localhost:8080/"
        },
        "id": "Nw06tFP405-W",
        "outputId": "fe02e73a-8f2d-48df-9d96-2a8130d078dc"
      },
      "execution_count": null,
      "outputs": [
        {
          "output_type": "execute_result",
          "data": {
            "text/plain": [
              "array(['id', 'loan_amnt', 'funded_amnt', 'int_rate', 'installment', 'total_pymnt', 'exchange_rate'], dtype='<U19')"
            ]
          },
          "metadata": {},
          "execution_count": 129
        }
      ]
    },
    {
      "cell_type": "markdown",
      "source": [
        "**From USD to EURO**"
      ],
      "metadata": {
        "id": "wQafiX713D1s"
      }
    },
    {
      "cell_type": "code",
      "source": [
        "header_numeric"
      ],
      "metadata": {
        "colab": {
          "base_uri": "https://localhost:8080/"
        },
        "id": "CQHX1rK51wuL",
        "outputId": "562c3489-6508-4948-d469-9e3390db74a8"
      },
      "execution_count": null,
      "outputs": [
        {
          "output_type": "execute_result",
          "data": {
            "text/plain": [
              "array(['id', 'loan_amnt', 'funded_amnt', 'int_rate', 'installment', 'total_pymnt', 'exchange_rate'], dtype='<U19')"
            ]
          },
          "metadata": {},
          "execution_count": 130
        }
      ]
    },
    {
      "cell_type": "code",
      "source": [
        "# We need to convert loan_amt, funded_amnt, installment, total_pymt columns to Euro's\n",
        "column_dollars = np.array([1,2,4,5])\n",
        "column_dollars"
      ],
      "metadata": {
        "colab": {
          "base_uri": "https://localhost:8080/"
        },
        "id": "uQbpT5f93JHk",
        "outputId": "61dfc848-73e0-4aa4-cb63-350ffb3fa015"
      },
      "execution_count": null,
      "outputs": [
        {
          "output_type": "execute_result",
          "data": {
            "text/plain": [
              "array([1, 2, 4, 5])"
            ]
          },
          "metadata": {},
          "execution_count": 131
        }
      ]
    },
    {
      "cell_type": "code",
      "source": [
        "# Exchange_rate is col 7\n",
        "load_data_numeric[:,6]"
      ],
      "metadata": {
        "colab": {
          "base_uri": "https://localhost:8080/"
        },
        "id": "4ieEdL4Y3kuJ",
        "outputId": "c2f24ba3-1500-46c2-81b7-1746b4411b90"
      },
      "execution_count": null,
      "outputs": [
        {
          "output_type": "execute_result",
          "data": {
            "text/plain": [
              "array([1.09603453, 1.10568669, 1.12559378, ..., 1.12229669, 1.11143219, 1.09339809])"
            ]
          },
          "metadata": {},
          "execution_count": 132
        }
      ]
    },
    {
      "cell_type": "code",
      "source": [
        "for i in column_dollars:\n",
        "  load_data_numeric = np.hstack((load_data_numeric, np.reshape(load_data_numeric[:,i] / load_data_numeric[:,6], (10000,1))))\n",
        "load_data_numeric"
      ],
      "metadata": {
        "colab": {
          "base_uri": "https://localhost:8080/"
        },
        "id": "cLkAmZM23--z",
        "outputId": "03831901-919b-4b4e-9c6f-b8aa9875438e"
      },
      "execution_count": null,
      "outputs": [
        {
          "output_type": "execute_result",
          "data": {
            "text/plain": [
              "array([[4.80102260e+07, 3.50000000e+04, 3.50000000e+04, ..., 3.19333006e+04, 1.08104259e+03, 8.62469180e+03],\n",
              "       [5.76932610e+07, 3.00000000e+04, 3.00000000e+04, ..., 2.71324600e+04, 8.48857099e+02, 4.23239243e+03],\n",
              "       [5.94327260e+07, 1.50000000e+04, 1.50000000e+04, ..., 1.33262996e+04, 4.39643509e+02, 1.75003632e+03],\n",
              "       ...,\n",
              "       [5.04159900e+07, 1.00000000e+04, 1.00000000e+04, ..., 8.91029982e+03, 1.22335743e+03, 1.94747077e+03],\n",
              "       [4.61541510e+07, 3.50000000e+04, 1.00000000e+04, ..., 8.99739997e+03, 3.18777881e+02, 2.87862815e+03],\n",
              "       [6.60552490e+07, 1.00000000e+04, 1.00000000e+04, ..., 9.14579974e+03, 2.83492354e+02, 2.76111694e+02]])"
            ]
          },
          "metadata": {},
          "execution_count": 133
        }
      ]
    },
    {
      "cell_type": "code",
      "source": [
        "load_data_numeric.shape"
      ],
      "metadata": {
        "colab": {
          "base_uri": "https://localhost:8080/"
        },
        "id": "L2jiD3X9CKgf",
        "outputId": "d1ad1ea8-f01d-41e8-9f32-bde665c31d0b"
      },
      "execution_count": null,
      "outputs": [
        {
          "output_type": "execute_result",
          "data": {
            "text/plain": [
              "(10000, 11)"
            ]
          },
          "metadata": {},
          "execution_count": 134
        }
      ]
    },
    {
      "cell_type": "markdown",
      "source": [
        "**Updating Header :** As columns have been updated in load_data_numeric"
      ],
      "metadata": {
        "id": "NFBItRbXCUy0"
      }
    },
    {
      "cell_type": "code",
      "source": [
        "header_numeric"
      ],
      "metadata": {
        "colab": {
          "base_uri": "https://localhost:8080/"
        },
        "id": "PpIc1TlODiPu",
        "outputId": "c45a3d36-8042-41be-8f98-a775bcabd04f"
      },
      "execution_count": null,
      "outputs": [
        {
          "output_type": "execute_result",
          "data": {
            "text/plain": [
              "array(['id', 'loan_amnt', 'funded_amnt', 'int_rate', 'installment', 'total_pymnt', 'exchange_rate'], dtype='<U19')"
            ]
          },
          "metadata": {},
          "execution_count": 135
        }
      ]
    },
    {
      "cell_type": "code",
      "source": [
        "column_dollars"
      ],
      "metadata": {
        "colab": {
          "base_uri": "https://localhost:8080/"
        },
        "id": "uBTx2JWXDlUn",
        "outputId": "ec1df73e-51fc-42e5-8b1b-44521ffeb756"
      },
      "execution_count": null,
      "outputs": [
        {
          "output_type": "execute_result",
          "data": {
            "text/plain": [
              "array([1, 2, 4, 5])"
            ]
          },
          "metadata": {},
          "execution_count": 136
        }
      ]
    },
    {
      "cell_type": "code",
      "source": [
        "header_additional = np.array([column_name + '_EUR' for column_name in header_numeric[column_dollars]])\n",
        "header_additional"
      ],
      "metadata": {
        "colab": {
          "base_uri": "https://localhost:8080/"
        },
        "id": "rIbQ4F-GCPnm",
        "outputId": "a2564ed1-bfdf-4481-dfe6-b68b367ad687"
      },
      "execution_count": null,
      "outputs": [
        {
          "output_type": "execute_result",
          "data": {
            "text/plain": [
              "array(['loan_amnt_EUR', 'funded_amnt_EUR', 'installment_EUR', 'total_pymnt_EUR'], dtype='<U15')"
            ]
          },
          "metadata": {},
          "execution_count": 137
        }
      ]
    },
    {
      "cell_type": "code",
      "source": [
        "header_numeric = np.concatenate((header_numeric, header_additional))\n",
        "header_numeric"
      ],
      "metadata": {
        "colab": {
          "base_uri": "https://localhost:8080/"
        },
        "id": "pfZl-_0fEGjt",
        "outputId": "aeb3820a-45d6-4400-97c0-12e7ca757330"
      },
      "execution_count": null,
      "outputs": [
        {
          "output_type": "execute_result",
          "data": {
            "text/plain": [
              "array(['id', 'loan_amnt', 'funded_amnt', 'int_rate', 'installment', 'total_pymnt', 'exchange_rate', 'loan_amnt_EUR', 'funded_amnt_EUR', 'installment_EUR', 'total_pymnt_EUR'], dtype='<U19')"
            ]
          },
          "metadata": {},
          "execution_count": 138
        }
      ]
    },
    {
      "cell_type": "code",
      "source": [
        "column_dollars"
      ],
      "metadata": {
        "colab": {
          "base_uri": "https://localhost:8080/"
        },
        "id": "M8z1WLSeETMe",
        "outputId": "4d2b9001-fa21-4aa7-d393-9bb13292d189"
      },
      "execution_count": null,
      "outputs": [
        {
          "output_type": "execute_result",
          "data": {
            "text/plain": [
              "array([1, 2, 4, 5])"
            ]
          },
          "metadata": {},
          "execution_count": 139
        }
      ]
    },
    {
      "cell_type": "code",
      "source": [
        "header_numeric[column_dollars] = np.array([column_name + '_USD' for column_name in header_numeric[column_dollars]])\n",
        "header_numeric"
      ],
      "metadata": {
        "colab": {
          "base_uri": "https://localhost:8080/"
        },
        "id": "KlgdxnY8EbvR",
        "outputId": "edd37dc6-4f45-483c-cf32-52c32b190fdc"
      },
      "execution_count": null,
      "outputs": [
        {
          "output_type": "execute_result",
          "data": {
            "text/plain": [
              "array(['id', 'loan_amnt_USD', 'funded_amnt_USD', 'int_rate', 'installment_USD', 'total_pymnt_USD', 'exchange_rate', 'loan_amnt_EUR', 'funded_amnt_EUR', 'installment_EUR', 'total_pymnt_EUR'], dtype='<U19')"
            ]
          },
          "metadata": {},
          "execution_count": 140
        }
      ]
    },
    {
      "cell_type": "code",
      "source": [
        "# Rearranging columns\n",
        "column_index_order = [0,1,7,2,8,3,4,9,5,10,6]\n",
        "header_numeric = header_numeric[column_index_order]\n",
        "header_numeric"
      ],
      "metadata": {
        "colab": {
          "base_uri": "https://localhost:8080/"
        },
        "id": "qQ4hy8M-FEML",
        "outputId": "b42bf045-5111-46e1-994f-e9ca54dde5e7"
      },
      "execution_count": null,
      "outputs": [
        {
          "output_type": "execute_result",
          "data": {
            "text/plain": [
              "array(['id', 'loan_amnt_USD', 'loan_amnt_EUR', 'funded_amnt_USD', 'funded_amnt_EUR', 'int_rate', 'installment_USD', 'installment_EUR', 'total_pymnt_USD', 'total_pymnt_EUR', 'exchange_rate'], dtype='<U19')"
            ]
          },
          "metadata": {},
          "execution_count": 141
        }
      ]
    },
    {
      "cell_type": "code",
      "source": [
        "load_data_numeric = load_data_numeric[:,column_index_order]"
      ],
      "metadata": {
        "id": "Q3CeDqLaFRrO"
      },
      "execution_count": null,
      "outputs": []
    },
    {
      "cell_type": "code",
      "source": [
        "load_data_numeric.shape"
      ],
      "metadata": {
        "id": "hX46cVsfLQ70",
        "outputId": "91dcf6d4-2264-4a0b-8744-cacbb50a5c22",
        "colab": {
          "base_uri": "https://localhost:8080/"
        }
      },
      "execution_count": null,
      "outputs": [
        {
          "output_type": "execute_result",
          "data": {
            "text/plain": [
              "(10000, 11)"
            ]
          },
          "metadata": {},
          "execution_count": 143
        }
      ]
    },
    {
      "cell_type": "markdown",
      "source": [
        "**Interest Rate**"
      ],
      "metadata": {
        "id": "c87wx9sTFuI2"
      }
    },
    {
      "cell_type": "code",
      "source": [
        "header_numeric"
      ],
      "metadata": {
        "colab": {
          "base_uri": "https://localhost:8080/"
        },
        "id": "klilyPncFtts",
        "outputId": "2d45d353-ca39-45f0-b1d2-e2ccc77e8854"
      },
      "execution_count": null,
      "outputs": [
        {
          "output_type": "execute_result",
          "data": {
            "text/plain": [
              "array(['id', 'loan_amnt_USD', 'loan_amnt_EUR', 'funded_amnt_USD', 'funded_amnt_EUR', 'int_rate', 'installment_USD', 'installment_EUR', 'total_pymnt_USD', 'total_pymnt_EUR', 'exchange_rate'], dtype='<U19')"
            ]
          },
          "metadata": {},
          "execution_count": 144
        }
      ]
    },
    {
      "cell_type": "markdown",
      "source": [
        "HERE"
      ],
      "metadata": {
        "id": "7xn1PTZWLHSt"
      }
    },
    {
      "cell_type": "code",
      "source": [
        "load_data_numeric.shape"
      ],
      "metadata": {
        "id": "6V7wLSl9LD7-",
        "outputId": "e8072827-23c9-4ef5-8152-bed0d8f774a5",
        "colab": {
          "base_uri": "https://localhost:8080/"
        }
      },
      "execution_count": null,
      "outputs": [
        {
          "output_type": "execute_result",
          "data": {
            "text/plain": [
              "(10000, 11)"
            ]
          },
          "metadata": {},
          "execution_count": 145
        }
      ]
    },
    {
      "cell_type": "code",
      "source": [
        "load_data_numeric[:,5]"
      ],
      "metadata": {
        "colab": {
          "base_uri": "https://localhost:8080/"
        },
        "id": "IhUAC6YOF5R6",
        "outputId": "5e393d2d-78d3-4f33-b56b-834e461d6ab0"
      },
      "execution_count": null,
      "outputs": [
        {
          "output_type": "execute_result",
          "data": {
            "text/plain": [
              "array([13.33, 28.99, 28.99, ..., 28.99, 16.55, 28.99])"
            ]
          },
          "metadata": {},
          "execution_count": 146
        }
      ]
    },
    {
      "cell_type": "code",
      "source": [
        "# Since values are very high, we can store them in between 0 - 1\n",
        "load_data_numeric[:,5] = (load_data_numeric[:,5])/10000\n",
        "load_data_numeric[:,5]"
      ],
      "metadata": {
        "colab": {
          "base_uri": "https://localhost:8080/"
        },
        "id": "08_21u8ZHwW8",
        "outputId": "eee22b3d-f0e6-4998-f20b-01418e2d3fa2"
      },
      "execution_count": null,
      "outputs": [
        {
          "output_type": "execute_result",
          "data": {
            "text/plain": [
              "array([0.001333, 0.002899, 0.002899, ..., 0.002899, 0.001655, 0.002899])"
            ]
          },
          "metadata": {},
          "execution_count": 147
        }
      ]
    },
    {
      "cell_type": "code",
      "source": [
        "load_data_numeric.shape"
      ],
      "metadata": {
        "id": "SI9lIIpkJzjQ",
        "outputId": "1b125ecc-21af-42ab-cc46-d71f9220441c",
        "colab": {
          "base_uri": "https://localhost:8080/"
        }
      },
      "execution_count": null,
      "outputs": [
        {
          "output_type": "execute_result",
          "data": {
            "text/plain": [
              "(10000, 11)"
            ]
          },
          "metadata": {},
          "execution_count": 148
        }
      ]
    },
    {
      "cell_type": "markdown",
      "source": [
        "**Checkpoint2: Numeric**"
      ],
      "metadata": {
        "id": "kBOpmw-qIlOt"
      }
    },
    {
      "cell_type": "code",
      "source": [
        "checkpoint_numeric = checkpoint(\"checkpoint_numeric\", header_numeric, load_data_numeric)\n",
        "checkpoint_numeric['header'], checkpoint_numeric['data']"
      ],
      "metadata": {
        "id": "SKi4TeocI8GI",
        "outputId": "1dc18864-e485-4eb8-869a-9b570d2df7c7",
        "colab": {
          "base_uri": "https://localhost:8080/"
        }
      },
      "execution_count": null,
      "outputs": [
        {
          "output_type": "execute_result",
          "data": {
            "text/plain": [
              "(array(['id', 'loan_amnt_USD', 'loan_amnt_EUR', 'funded_amnt_USD', 'funded_amnt_EUR', 'int_rate', 'installment_USD', 'installment_EUR', 'total_pymnt_USD', 'total_pymnt_EUR', 'exchange_rate'], dtype='<U19'),\n",
              " array([[4.80102260e+07, 3.50000000e+04, 3.19333006e+04, ..., 9.45296000e+03, 8.62469180e+03, 1.09603453e+00],\n",
              "        [5.76932610e+07, 3.00000000e+04, 2.71324600e+04, ..., 4.67970000e+03, 4.23239243e+03, 1.10568669e+00],\n",
              "        [5.94327260e+07, 1.50000000e+04, 1.33262996e+04, ..., 1.96983000e+03, 1.75003632e+03, 1.12559378e+00],\n",
              "        ...,\n",
              "        [5.04159900e+07, 1.00000000e+04, 8.91029982e+03, ..., 2.18564000e+03, 1.94747077e+03, 1.12229669e+00],\n",
              "        [4.61541510e+07, 3.50000000e+04, 3.14908999e+04, ..., 3.19940000e+03, 2.87862815e+03, 1.11143219e+00],\n",
              "        [6.60552490e+07, 1.00000000e+04, 9.14579974e+03, ..., 3.01900000e+02, 2.76111694e+02, 1.09339809e+00]]))"
            ]
          },
          "metadata": {},
          "execution_count": 149
        }
      ]
    },
    {
      "cell_type": "markdown",
      "source": [
        "**Creating the complete Dataset**"
      ],
      "metadata": {
        "id": "mPPALOFdJCwS"
      }
    },
    {
      "cell_type": "code",
      "source": [
        "# Here we will combine the Numeric and Strings data.\n",
        "# Then sort it save its content to a csv file."
      ],
      "metadata": {
        "id": "0uZXY-fLJFVz"
      },
      "execution_count": null,
      "outputs": []
    },
    {
      "cell_type": "code",
      "source": [
        "checkpoint_strings['data'].shape"
      ],
      "metadata": {
        "id": "9fX0VoBcJZzf",
        "outputId": "f0b576e4-7f13-4f07-ca05-e5c791f86de6",
        "colab": {
          "base_uri": "https://localhost:8080/"
        }
      },
      "execution_count": null,
      "outputs": [
        {
          "output_type": "execute_result",
          "data": {
            "text/plain": [
              "(10000, 6)"
            ]
          },
          "metadata": {},
          "execution_count": 151
        }
      ]
    },
    {
      "cell_type": "code",
      "source": [
        "checkpoint_numeric['data'].shape"
      ],
      "metadata": {
        "id": "gmegeXBGJsls",
        "outputId": "6091e80f-17d5-4f9c-faa7-f0a93c5436cd",
        "colab": {
          "base_uri": "https://localhost:8080/"
        }
      },
      "execution_count": null,
      "outputs": [
        {
          "output_type": "execute_result",
          "data": {
            "text/plain": [
              "(10000, 11)"
            ]
          },
          "metadata": {},
          "execution_count": 152
        }
      ]
    },
    {
      "cell_type": "code",
      "source": [
        "# Since both datasets have same rows, we can stack them side by side\n",
        "np.hstack((checkpoint_numeric['data'], checkpoint_strings['data'])).shape"
      ],
      "metadata": {
        "id": "SrZZ4FAtL3VY",
        "outputId": "ea61c418-085b-45b8-a1a6-ec9176b8485d",
        "colab": {
          "base_uri": "https://localhost:8080/"
        }
      },
      "execution_count": null,
      "outputs": [
        {
          "output_type": "execute_result",
          "data": {
            "text/plain": [
              "(10000, 17)"
            ]
          },
          "metadata": {},
          "execution_count": 153
        }
      ]
    },
    {
      "cell_type": "code",
      "source": [
        "loan_data = np.hstack((checkpoint_numeric['data'], checkpoint_strings['data']))\n",
        "loan_data"
      ],
      "metadata": {
        "id": "VX1EeDCIMI8U",
        "outputId": "097fa26b-c9dc-419c-c61b-4206524af03d",
        "colab": {
          "base_uri": "https://localhost:8080/"
        }
      },
      "execution_count": null,
      "outputs": [
        {
          "output_type": "execute_result",
          "data": {
            "text/plain": [
              "array([[4.80102260e+07, 3.50000000e+04, 3.19333006e+04, ..., 1.30000000e+01, 1.00000000e+00, 1.00000000e+00],\n",
              "       [5.76932610e+07, 3.00000000e+04, 2.71324600e+04, ..., 5.00000000e+00, 1.00000000e+00, 4.00000000e+00],\n",
              "       [5.94327260e+07, 1.50000000e+04, 1.33262996e+04, ..., 1.00000000e+01, 1.00000000e+00, 4.00000000e+00],\n",
              "       ...,\n",
              "       [5.04159900e+07, 1.00000000e+04, 8.91029982e+03, ..., 5.00000000e+00, 1.00000000e+00, 1.00000000e+00],\n",
              "       [4.61541510e+07, 3.50000000e+04, 3.14908999e+04, ..., 1.70000000e+01, 1.00000000e+00, 3.00000000e+00],\n",
              "       [6.60552490e+07, 1.00000000e+04, 9.14579974e+03, ..., 4.00000000e+00, 0.00000000e+00, 3.00000000e+00]])"
            ]
          },
          "metadata": {},
          "execution_count": 154
        }
      ]
    },
    {
      "cell_type": "code",
      "source": [
        "# No missing values found\n",
        "np.isnan(loan_data).sum()"
      ],
      "metadata": {
        "id": "s-gkBjPBMYJE",
        "outputId": "b501c67a-8674-467f-af76-35c7a0f6064f",
        "colab": {
          "base_uri": "https://localhost:8080/"
        }
      },
      "execution_count": null,
      "outputs": [
        {
          "output_type": "execute_result",
          "data": {
            "text/plain": [
              "0"
            ]
          },
          "metadata": {},
          "execution_count": 155
        }
      ]
    },
    {
      "cell_type": "code",
      "source": [
        "header_full = np.concatenate((checkpoint_numeric['header'], checkpoint_strings['header']))\n",
        "header_full"
      ],
      "metadata": {
        "id": "LQTExEP4MeMY",
        "outputId": "a2111bb8-0b7f-4164-818e-07275a44e852",
        "colab": {
          "base_uri": "https://localhost:8080/"
        }
      },
      "execution_count": null,
      "outputs": [
        {
          "output_type": "execute_result",
          "data": {
            "text/plain": [
              "array(['id', 'loan_amnt_USD', 'loan_amnt_EUR', 'funded_amnt_USD', 'funded_amnt_EUR', 'int_rate', 'installment_USD', 'installment_EUR', 'total_pymnt_USD', 'total_pymnt_EUR', 'exchange_rate', 'issue_date', 'loan_status', 'term_months', 'sub_grade', 'verification_status', 'addr_state'], dtype='<U19')"
            ]
          },
          "metadata": {},
          "execution_count": 156
        }
      ]
    },
    {
      "cell_type": "markdown",
      "source": [
        "**Sorting new dataset**"
      ],
      "metadata": {
        "id": "k0nnBQ_XM7tA"
      }
    },
    {
      "cell_type": "code",
      "source": [
        "loan_data"
      ],
      "metadata": {
        "id": "T7-6y1kfNP1R",
        "outputId": "22d42de7-8a7c-4eff-8ceb-345d34f158b2",
        "colab": {
          "base_uri": "https://localhost:8080/"
        }
      },
      "execution_count": null,
      "outputs": [
        {
          "output_type": "execute_result",
          "data": {
            "text/plain": [
              "array([[4.80102260e+07, 3.50000000e+04, 3.19333006e+04, ..., 1.30000000e+01, 1.00000000e+00, 1.00000000e+00],\n",
              "       [5.76932610e+07, 3.00000000e+04, 2.71324600e+04, ..., 5.00000000e+00, 1.00000000e+00, 4.00000000e+00],\n",
              "       [5.94327260e+07, 1.50000000e+04, 1.33262996e+04, ..., 1.00000000e+01, 1.00000000e+00, 4.00000000e+00],\n",
              "       ...,\n",
              "       [5.04159900e+07, 1.00000000e+04, 8.91029982e+03, ..., 5.00000000e+00, 1.00000000e+00, 1.00000000e+00],\n",
              "       [4.61541510e+07, 3.50000000e+04, 3.14908999e+04, ..., 1.70000000e+01, 1.00000000e+00, 3.00000000e+00],\n",
              "       [6.60552490e+07, 1.00000000e+04, 9.14579974e+03, ..., 4.00000000e+00, 0.00000000e+00, 3.00000000e+00]])"
            ]
          },
          "metadata": {},
          "execution_count": 157
        }
      ]
    },
    {
      "cell_type": "code",
      "source": [
        "# Sorting data based on ID\n",
        "np.sort(loan_data[:,0])"
      ],
      "metadata": {
        "id": "aSUFnIBQM17e",
        "outputId": "b7865875-53d1-46a7-e62a-c024c1896f48",
        "colab": {
          "base_uri": "https://localhost:8080/"
        }
      },
      "execution_count": null,
      "outputs": [
        {
          "output_type": "execute_result",
          "data": {
            "text/plain": [
              "array([  373332.,   575239.,   707689., ..., 68614880., 68615915., 68616519.])"
            ]
          },
          "metadata": {},
          "execution_count": 158
        }
      ]
    },
    {
      "cell_type": "code",
      "source": [
        "# Adding np.argsort - shows indexes which sort id col\n",
        "np.argsort(loan_data[:,0])"
      ],
      "metadata": {
        "id": "3SGu5DSbNmWD",
        "outputId": "d0a81f56-b1fe-4a20-9fe5-509ae21a8e83",
        "colab": {
          "base_uri": "https://localhost:8080/"
        }
      },
      "execution_count": null,
      "outputs": [
        {
          "output_type": "execute_result",
          "data": {
            "text/plain": [
              "array([2086, 4812, 2353, ..., 4935, 9388, 8415])"
            ]
          },
          "metadata": {},
          "execution_count": 159
        }
      ]
    },
    {
      "cell_type": "code",
      "source": [
        "# passing indexes to original array - Now dtaa is sorted\n",
        "loan_data = loan_data[np.argsort(loan_data[:,0])]\n",
        "loan_data"
      ],
      "metadata": {
        "id": "EeFdDZhjNweN",
        "outputId": "0a7fd0d8-9870-4e96-d7d1-bd06ed07b458",
        "colab": {
          "base_uri": "https://localhost:8080/"
        }
      },
      "execution_count": null,
      "outputs": [
        {
          "output_type": "execute_result",
          "data": {
            "text/plain": [
              "array([[3.73332000e+05, 9.95000000e+03, 9.03808281e+03, ..., 2.10000000e+01, 0.00000000e+00, 1.00000000e+00],\n",
              "       [5.75239000e+05, 1.20000000e+04, 1.09002004e+04, ..., 2.50000000e+01, 1.00000000e+00, 2.00000000e+00],\n",
              "       [7.07689000e+05, 1.00000000e+04, 8.92429980e+03, ..., 1.30000000e+01, 1.00000000e+00, 0.00000000e+00],\n",
              "       ...,\n",
              "       [6.86148800e+07, 5.60000000e+03, 5.12164785e+03, ..., 8.00000000e+00, 1.00000000e+00, 1.00000000e+00],\n",
              "       [6.86159150e+07, 4.00000000e+03, 3.65831989e+03, ..., 1.00000000e+01, 1.00000000e+00, 2.00000000e+00],\n",
              "       [6.86165190e+07, 2.16000000e+04, 1.97549274e+04, ..., 3.00000000e+00, 0.00000000e+00, 2.00000000e+00]])"
            ]
          },
          "metadata": {},
          "execution_count": 160
        }
      ]
    },
    {
      "cell_type": "code",
      "source": [
        "# All values are sorted, test by using indexes\n",
        "np.argsort(loan_data[:,0])"
      ],
      "metadata": {
        "id": "PXtkVto8N4fR",
        "outputId": "17ff7217-d787-4b64-f68c-12afa738c749",
        "colab": {
          "base_uri": "https://localhost:8080/"
        }
      },
      "execution_count": null,
      "outputs": [
        {
          "output_type": "execute_result",
          "data": {
            "text/plain": [
              "array([   0,    1,    2, ..., 9997, 9998, 9999])"
            ]
          },
          "metadata": {},
          "execution_count": 161
        }
      ]
    },
    {
      "cell_type": "markdown",
      "source": [
        "**Storing new dataset**"
      ],
      "metadata": {
        "id": "6ey6e_q4OkUL"
      }
    },
    {
      "cell_type": "code",
      "source": [
        "# Stack header on top of the loan_data array.\n",
        "loan_data = np.vstack((header_full, loan_data))\n",
        "# First one in parameter will come first so we gave header_full before loan_data.\n",
        "# Observe all numbers automatically converted to text."
      ],
      "metadata": {
        "id": "ygeDgowUOesL"
      },
      "execution_count": null,
      "outputs": []
    },
    {
      "cell_type": "code",
      "source": [
        "loan_data"
      ],
      "metadata": {
        "id": "y8jlsmbyPA5f",
        "outputId": "b1fa960b-a3c5-43e3-c2c5-96df8e4c86ee",
        "colab": {
          "base_uri": "https://localhost:8080/"
        }
      },
      "execution_count": null,
      "outputs": [
        {
          "output_type": "execute_result",
          "data": {
            "text/plain": [
              "array([['id', 'loan_amnt_USD', 'loan_amnt_EUR', ..., 'sub_grade', 'verification_status', 'addr_state'],\n",
              "       ['373332.0', '9950.0', '9038.082814338286', ..., '21.0', '0.0', '1.0'],\n",
              "       ['575239.0', '12000.0', '10900.20037910145', ..., '25.0', '1.0', '2.0'],\n",
              "       ...,\n",
              "       ['68614880.0', '5600.0', '5121.647851612413', ..., '8.0', '1.0', '1.0'],\n",
              "       ['68615915.0', '4000.0', '3658.319894008867', ..., '10.0', '1.0', '2.0'],\n",
              "       ['68616519.0', '21600.0', '19754.927427647883', ..., '3.0', '0.0', '2.0']], dtype='<U32')"
            ]
          },
          "metadata": {},
          "execution_count": 163
        }
      ]
    },
    {
      "cell_type": "markdown",
      "source": [
        "**Save the data**"
      ],
      "metadata": {
        "id": "X4IsVaXfPODa"
      }
    },
    {
      "cell_type": "code",
      "source": [
        "np.savetxt(\"loan_data_preprocessed.csv\",\n",
        "           loan_data,\n",
        "           fmt = '%s',\n",
        "           delimiter = ',')"
      ],
      "metadata": {
        "id": "LjnjIM8RPQSm"
      },
      "execution_count": null,
      "outputs": []
    }
  ]
}